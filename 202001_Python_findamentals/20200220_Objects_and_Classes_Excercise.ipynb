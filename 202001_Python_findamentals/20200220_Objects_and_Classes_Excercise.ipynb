{
 "cells": [
  {
   "cell_type": "markdown",
   "source": [
    "# Excercise: Objects and Classes"
   ],
   "metadata": {
    "collapsed": false
   }
  },
  {
   "cell_type": "markdown",
   "source": [
    "------\n",
    "## 1.Storage\n",
    "\n",
    "Create a class Storage. The `__init__` method should accept one parameter: the capacity of the storage. The Storage class should also have an attribute called storage, where all the items will be stored. The class should have two additional methods:\n",
    "    • add_product(product) - adds the product in the storage if there is space for it\n",
    "    • get_products() - returns the storage list\n",
    "\n",
    "`example`\n",
    "\n",
    "Test Code|Output\n",
    "-|-\n",
    "storage = Storage(4)<br>storage.add_product(\"apple\")<br>storage.add_product(\"banana\")<br>storage.add_product(\"potato\")<br>storage.add_product(\"tomato\")<br>storage.add_product(\"bread\")<br>print(storage.get_products())|['apple', 'banana', 'potato', 'tomato']"
   ],
   "metadata": {
    "collapsed": false,
    "pycharm": {
     "name": "#%% md\n"
    }
   }
  },
  {
   "cell_type": "code",
   "execution_count": 2,
   "outputs": [
    {
     "name": "stdout",
     "text": [
      "['apple', 'banana', 'potato', 'tomato']\n"
     ],
     "output_type": "stream"
    }
   ],
   "source": [
    "class Storage:\n",
    "    def __init__(self, capacity):\n",
    "        self.capacity = capacity\n",
    "        self.storage = []\n",
    "        \n",
    "    def add_product(self, product):\n",
    "        if len(self.storage) < self.capacity:\n",
    "            self.storage.append(product)\n",
    "    \n",
    "    def get_products(self):\n",
    "        return self.storage\n",
    "\n",
    "storage = Storage(4)\n",
    "storage.add_product(\"apple\")\n",
    "storage.add_product(\"banana\")\n",
    "storage.add_product(\"potato\")\n",
    "storage.add_product(\"tomato\")\n",
    "storage.add_product(\"bread\")\n",
    "print(storage.get_products())"
   ],
   "metadata": {
    "collapsed": false,
    "pycharm": {
     "name": "#%%\n",
     "is_executing": false
    }
   }
  },
  {
   "cell_type": "markdown",
   "source": [
    "-------\n",
    "## 2. Weapon\n",
    "\n",
    "\n",
    "Create a class Weapon. The `__init__` method should receive an amount of bullets (integer). Create an attribute called bullets, to store them. The class should also have the following methods:\n",
    "* shoot() - if there are bullets in the weapon, reduce them by 1 and return a message \"shooting…\". If there are no bullets left, return: \"no bullets left\"\n",
    "\n",
    "You should also override the toString method, so that the following code: print(weapon) should work. To do that define a `__repr__` method that returns \"Remaining bullets: {amount_of_bullets}\". You can read more about the `__repr__` method here: [link](https://www.journaldev.com/22460/python-str-repr-functions)\n",
    "\n",
    "`Example`\n",
    "\n",
    "Test Code|Output\n",
    "-|-\n",
    "weapon = Weapon(5)<br>weapon.shoot()<br>weapon.shoot()<br>weapon.shoot()<br>weapon.shoot()<br>weapon.shoot()<br>weapon.shoot()<br>print(weapon)|Remaining bullets: 0"
   ],
   "metadata": {
    "collapsed": false
   }
  },
  {
   "cell_type": "code",
   "execution_count": 3,
   "outputs": [
    {
     "name": "stdout",
     "text": [
      "Remaining bullets: 0\n"
     ],
     "output_type": "stream"
    }
   ],
   "source": [
    "class Weapon:\n",
    "    def __init__(self, bullets):\n",
    "        self.bullets = bullets\n",
    "    \n",
    "    def shoot(self):\n",
    "        if self.bullets > 0:\n",
    "            self.bullets -= 1\n",
    "            return 'shooting...'\n",
    "        else:\n",
    "            return 'no bullets left'\n",
    "    \n",
    "    def __repr__(self):\n",
    "        return f'Remaining bullets: {self.bullets}'\n",
    "\n",
    "weapon = Weapon(5)\n",
    "weapon.shoot()\n",
    "weapon.shoot()\n",
    "weapon.shoot()\n",
    "weapon.shoot()\n",
    "weapon.shoot()\n",
    "weapon.shoot()\n",
    "print(weapon)"
   ],
   "metadata": {
    "collapsed": false,
    "pycharm": {
     "name": "#%%\n",
     "is_executing": false
    }
   }
  },
  {
   "cell_type": "markdown",
   "source": [
    "-------\n",
    "## 3.Catalogue\n",
    "\n",
    "Create a class Catalogue. The `__init__` method should accept the name of the catalogue. Each catalogue should also have an attribute called products and it should be a list. The class should also have three more methods:\n",
    "* **add_product(product)** - add the product to the product list\n",
    "* **get_by_letter(first_letter)** - returns a list containing only the products that start with the given letter\n",
    "* `__repr__` - returns the catalogue info in the following format: <br>\n",
    "**\"Items in the {name} catalogue:<br>\n",
    "{item1}<br>\n",
    "{item2}<br>\n",
    "…\"**\n",
    "The items should be **sorted alphabetically** (default sorting)\n",
    "\n",
    "`example`\n",
    "\n",
    "Test Code|Output\n",
    "-|-\n",
    "catalogue = Catalogue(\"Furniture\")<br>catalogue.add_product(\"Sofa\")<br>catalogue.add_product(\"Mirror\")<br>catalogue.add_product(\"Desk\")<br>catalogue.add_product(\"Chair\")<br>catalogue.add_product(\"Carpet\")<br>print(catalogue.get_by_letter(\"C\"))<br>print(catalogue)|['Chair', 'Carpet']<br>Items in the Furniture catalogue:<br>Carpet<br>Chair<br>Desk<br>Mirror<br>Sofa\n"
   ],
   "metadata": {
    "collapsed": false,
    "pycharm": {
     "name": "#%% md\n"
    }
   }
  },
  {
   "cell_type": "code",
   "execution_count": 14,
   "outputs": [
    {
     "name": "stdout",
     "text": [
      "['Chair', 'Carpet']\n",
      "Items in the Furniture catalogue:\n",
      "Carpet \n",
      "Chair \n",
      "Desk \n",
      "Mirror \n",
      "Sofa\n"
     ],
     "output_type": "stream"
    }
   ],
   "source": [
    "class Catalogue:\n",
    "    def __init__(self, name):\n",
    "        self.name = name\n",
    "        self.products = []\n",
    "    \n",
    "    def add_product(self, product):\n",
    "        self.products.append(product)\n",
    "    \n",
    "    def get_by_letter(self, letter):\n",
    "        return [x for x in self.products if x[0] == letter]\n",
    "    \n",
    "    def __repr__(self):\n",
    "        return (\n",
    "            f\"Items in the {self.name} catalogue:\\n\" +\n",
    "            '\\n'.join(sorted([x for x in self.products]))\n",
    "        )\n",
    "\n",
    "\n",
    "catalogue = Catalogue(\"Furniture\")\n",
    "catalogue.add_product(\"Sofa\")\n",
    "catalogue.add_product(\"Mirror\")\n",
    "catalogue.add_product(\"Desk\")\n",
    "catalogue.add_product(\"Chair\")\n",
    "catalogue.add_product(\"Carpet\")\n",
    "print(catalogue.get_by_letter(\"C\"))\n",
    "print(catalogue)"
   ],
   "metadata": {
    "collapsed": false,
    "pycharm": {
     "name": "#%%\n",
     "is_executing": false
    }
   }
  },
  {
   "cell_type": "markdown",
   "source": [
    "-------\n",
    "## 4. Town\n",
    "\n",
    "Create a class Town. The `__init__` method should receive the name of the town. It should also have 3 more methods:\n",
    "* **set_latitude(latitude)** - set an attribute called latitude to the given one\n",
    "* **set_longitude(longitude)** - set an attribute called longitude to the given one\n",
    "* `__repr__` - return representation of the object in the following string format: \n",
    "\"Town: {name} | Latitude: {latitude} | Longitude: {longitude}\"\n",
    "\n",
    "Test Code|Output\n",
    "-|-\n",
    "town = Town(\"Sofia\")<br>town.set_latitude(\"42° 41\\' 51.04\\\" N\")<br>town.set_longitude(\"23° 19\\' 26.94\\\" E\")<br>print(town)|Town: Sofia `\\` Latitude: 42° 41' 51.04\" N `\\` Longitude: 23° 19' 26.94\" E"
   ],
   "metadata": {
    "collapsed": false
   }
  },
  {
   "cell_type": "code",
   "execution_count": 15,
   "outputs": [
    {
     "name": "stdout",
     "text": [
      "Town: Sofia | Latitude: 42° 41' 51.04\" N | Longitude: 23° 19' 26.94\" E\n"
     ],
     "output_type": "stream"
    }
   ],
   "source": [
    "class Town:\n",
    "    def __init__(self, name: str):\n",
    "        self.name = name\n",
    "        self.latitude = ''\n",
    "        self.longitude = ''\n",
    "    \n",
    "    def set_latitude(self, latitude: str):\n",
    "        self.latitude = latitude\n",
    "        \n",
    "    def set_longitude(self, longitude: str):\n",
    "        self.longitude = longitude\n",
    "    \n",
    "    def __repr__(self):\n",
    "        return f\"Town: {self.name} | Latitude: {self.latitude} | Longitude: {self.longitude}\"\n",
    "    \n",
    "town = Town(\"Sofia\")\n",
    "town.set_latitude(\"42° 41\\' 51.04\\\" N\")\n",
    "town.set_longitude(\"23° 19\\' 26.94\\\" E\")\n",
    "print(town)    "
   ],
   "metadata": {
    "collapsed": false,
    "pycharm": {
     "name": "#%%\n",
     "is_executing": false
    }
   }
  },
  {
   "cell_type": "markdown",
   "source": [
    "-------\n",
    "## 5.Class\n",
    "\n",
    "Create a class Class. The `__init__` method should receive the name of the class. It should also have 2 lists (students and grades). Create a class attribute __students_count equal to 22. The class should also have 3 additional methods:\n",
    "* **add_student(name, grade)** - if there is space in the class, add the student and the grade in the two lists\n",
    "* **get_average_grade()** - returns the average of all existing grades formatted to the second decimal point (as a number)\n",
    "* `__repr__` - returns the string (single line): \"The students in {class_name}: {students}. Average grade: {get_average_grade()}\". The students must be seperated by \", \"\n",
    "\n",
    "`example`\n",
    "\n",
    "Test Code|Output\n",
    "-|-\n",
    "a_class = Class(\"11B\")<br>a_class.add_student(\"Peter\", 4.80)<br>a_class.add_student(\"George\", 6.00)<br>a_class.add_student(\"Amy\", 3.50)<br>print(a_class)|The students in 11B: Peter, George, Amy. Average grade: 4.77"
   ],
   "metadata": {
    "collapsed": false
   }
  },
  {
   "cell_type": "code",
   "execution_count": 30,
   "outputs": [
    {
     "name": "stdout",
     "text": [
      "Peter, George, Amy\n",
      "The students in 11B: Peter, George, Amy. Average grade: 4.77\n"
     ],
     "output_type": "stream"
    }
   ],
   "source": [
    "class Class:\n",
    "    __students_count = 22\n",
    "    \n",
    "    def __init__(self, name):\n",
    "        self.name = name\n",
    "        self.students = []\n",
    "        self.grades = []\n",
    "    \n",
    "    def add_student(self,name, grade):\n",
    "        if len(self.students) < self.__students_count:\n",
    "            self.students.append(name)\n",
    "            self.grades.append(grade)\n",
    "    \n",
    "    def get_average_grade(self):\n",
    "        return round(sum(self.grades) / len(self.grades) if len(self.grades) > 0 else 0,2)\n",
    "\n",
    "    def __repr__(self):\n",
    "        students = \", \".join(self.students)\n",
    "        print(students)\n",
    "        return f\"The students in {self.name}: {students}. Average grade: {self.get_average_grade()}\"\n",
    "\n",
    "a_class = Class(\"11B\")\n",
    "a_class.add_student(\"Peter\", 4.80)\n",
    "a_class.add_student(\"George\", 6.00)\n",
    "a_class.add_student(\"Amy\", 3.50)\n",
    "print(a_class)"
   ],
   "metadata": {
    "collapsed": false,
    "pycharm": {
     "name": "#%%\n",
     "is_executing": false
    }
   }
  },
  {
   "cell_type": "markdown",
   "source": [
    "------\n",
    "##6.Inventory\n",
    "\n",
    "Create a class Inventory. The `__init__` method should accept only the capacity of the inventory. The capacity should be a private attribute (__capacity). You can read more about private attributes here. Each inventory should also have an attribute called items, where all the items will be stored. The class should also have 3 methods:\n",
    "* **add_item(item)** - adds the item in the inventory if there is space for it. Otherwise, returns \n",
    "\"not enough room in the inventory\"\n",
    "* **get_capacity()** - returns the value of __capacity\n",
    "* `__repr__()` - returns \"Items: {items}.\\nCapacity left: {left_capacity}\". The items should be separated by \", \"\n",
    "\n",
    "`example`\n",
    "\n",
    "Test Code|Output\n",
    "-|-\n",
    "inventory = Inventory(2)<br>inventory.add_item(\"potion\")<br>inventory.add_item(\"sword\")<br>inventory.add_item(\"bottle\")<br>print(inventory.get_capacity())<br>print(inventory)|not enough room in the inventory<br>2<br>Items: potion, sword.<br>Capacity left: 0"
   ],
   "metadata": {
    "collapsed": false
   }
  },
  {
   "cell_type": "code",
   "execution_count": 31,
   "outputs": [
    {
     "name": "stdout",
     "text": [
      "2\n",
      "Items: potion, sword.\n",
      "Capacity left: 0\n"
     ],
     "output_type": "stream"
    }
   ],
   "source": [
    "class Inventory:\n",
    "    \n",
    "    def __init__(self, capacity):\n",
    "        self.__capacity = capacity\n",
    "        self.items = []\n",
    "        \n",
    "        \n",
    "    def add_item(self, item):\n",
    "        if len(self.items) < self.__capacity:\n",
    "            self.items.append(item)\n",
    "        else:\n",
    "            return \"not enough room in the inventory\"\n",
    "    \n",
    "    def get_capacity(self):\n",
    "        return self.__capacity\n",
    "    \n",
    "    def __repr__(self):\n",
    "        left_capacity = self.__capacity - len(self.items)\n",
    "        return  f\"Items: {', '.join(self.items)}.\\nCapacity left: {left_capacity}\"\n",
    "\n",
    "inventory = Inventory(2)\n",
    "inventory.add_item(\"potion\")\n",
    "inventory.add_item(\"sword\")\n",
    "inventory.add_item(\"bottle\")\n",
    "print(inventory.get_capacity())\n",
    "print(inventory)"
   ],
   "metadata": {
    "collapsed": false,
    "pycharm": {
     "name": "#%%\n",
     "is_executing": false
    }
   }
  },
  {
   "cell_type": "markdown",
   "source": [
    "-----\n",
    "## 7.Articles\n",
    "\n",
    "Create a class Article. The `__init__` method should accept 3 arguments: title, content, author. The class should also have 4 methods:\n",
    "* **edit(new_content)** - changes the old content to the new one\n",
    "* **change_author(new_author)** - changes the old author to with the new one\n",
    "* **rename(new_title)** - changes the old title with the new one\n",
    "* `__repr__()` - returns the following string \"{title} - {content}: {author}\"\n",
    "\n",
    "`example`\n",
    "\n",
    "Test Code|Output\n",
    "-|-\n",
    "article = Article(\"some title\", \"some content\", \"some author\")<br>article.edit(\"new content\")<br>article.rename(\"new title\")<br>article.change_author(\"new author\")<br>print(article)|new title - new content: new author\n"
   ],
   "metadata": {
    "collapsed": false
   }
  },
  {
   "cell_type": "code",
   "execution_count": 33,
   "outputs": [
    {
     "name": "stdout",
     "text": [
      "new title - new content: new author\n"
     ],
     "output_type": "stream"
    }
   ],
   "source": [
    "class Article:\n",
    "    \n",
    "    def __init__(self, title, content, author):\n",
    "        self.title = title\n",
    "        self.content = content\n",
    "        self.author = author\n",
    "        \n",
    "    def edit(self, new_content):\n",
    "        self.content = new_content\n",
    "    \n",
    "    def change_author(self, new_author):\n",
    "        self.author = new_author\n",
    "    \n",
    "    def rename(self, new_title):\n",
    "        self.title = new_title\n",
    "        \n",
    "    def __repr__(self):\n",
    "        return f\"{self.title} - {self.content}: {self.author}\"\n",
    "\n",
    "article = Article(\"some title\", \"some content\", \"some author\")\n",
    "article.edit(\"new content\")\n",
    "article.rename(\"new title\")\n",
    "article.change_author(\"new author\")\n",
    "print(article)"
   ],
   "metadata": {
    "collapsed": false,
    "pycharm": {
     "name": "#%%\n",
     "is_executing": false
    }
   }
  }
 ],
 "metadata": {
  "kernelspec": {
   "display_name": "Python 3",
   "language": "python",
   "name": "python3"
  },
  "language_info": {
   "codemirror_mode": {
    "name": "ipython",
    "version": 2
   },
   "file_extension": ".py",
   "mimetype": "text/x-python",
   "name": "python",
   "nbconvert_exporter": "python",
   "pygments_lexer": "ipython2",
   "version": "2.7.6"
  },
  "pycharm": {
   "stem_cell": {
    "cell_type": "raw",
    "source": [],
    "metadata": {
     "collapsed": false
    }
   }
  }
 },
 "nbformat": 4,
 "nbformat_minor": 0
}