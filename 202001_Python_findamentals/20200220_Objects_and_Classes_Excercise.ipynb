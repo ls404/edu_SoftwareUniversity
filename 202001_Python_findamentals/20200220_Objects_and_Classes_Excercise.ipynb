{
 "cells": [
  {
   "cell_type": "markdown",
   "source": [
    "# Excercise: Objects and Classes"
   ],
   "metadata": {
    "collapsed": false
   }
  },
  {
   "cell_type": "markdown",
   "source": [
    "## 1.Storage\n",
    "\n",
    "Create a class Storage. The __init__ method should accept one parameter: the capacity of the storage. The Storage class should also have an attribute called storage, where all the items will be stored. The class should have two additional methods:\n",
    "    • add_product(product) - adds the product in the storage if there is space for it\n",
    "    • get_products() - returns the storage list\n",
    "\n",
    "`example`\n",
    "\n",
    "Test Code|Output\n",
    "-|-\n",
    "storage = Storage(4)<br>storage.add_product(\"apple\")<br>storage.add_product(\"banana\")<br>storage.add_product(\"potato\")<br>storage.add_product(\"tomato\")<br>storage.add_product(\"bread\")<br>print(storage.get_products())|['apple', 'banana', 'potato', 'tomato']"
   ],
   "metadata": {
    "collapsed": false,
    "pycharm": {
     "name": "#%% md\n"
    }
   }
  },
  {
   "cell_type": "code",
   "execution_count": 2,
   "outputs": [
    {
     "name": "stdout",
     "text": [
      "['apple', 'banana', 'potato', 'tomato']\n"
     ],
     "output_type": "stream"
    }
   ],
   "source": [
    "class Storage:\n",
    "    def __init__(self, capacity):\n",
    "        self.capacity = capacity\n",
    "        self.storage = []\n",
    "        \n",
    "    def add_product(self, product):\n",
    "        if len(self.storage) < self.capacity:\n",
    "            self.storage.append(product)\n",
    "    \n",
    "    def get_products(self):\n",
    "        return self.storage\n",
    "\n",
    "# storage = Storage(4)\n",
    "# storage.add_product(\"apple\")\n",
    "# storage.add_product(\"banana\")\n",
    "# storage.add_product(\"potato\")\n",
    "# storage.add_product(\"tomato\")\n",
    "# storage.add_product(\"bread\")\n",
    "# print(storage.get_products())\n"
   ],
   "metadata": {
    "collapsed": false,
    "pycharm": {
     "name": "#%%\n",
     "is_executing": false
    }
   }
  }
 ],
 "metadata": {
  "kernelspec": {
   "display_name": "Python 3",
   "language": "python",
   "name": "python3"
  },
  "language_info": {
   "codemirror_mode": {
    "name": "ipython",
    "version": 2
   },
   "file_extension": ".py",
   "mimetype": "text/x-python",
   "name": "python",
   "nbconvert_exporter": "python",
   "pygments_lexer": "ipython2",
   "version": "2.7.6"
  },
  "pycharm": {
   "stem_cell": {
    "cell_type": "raw",
    "source": [],
    "metadata": {
     "collapsed": false
    }
   }
  }
 },
 "nbformat": 4,
 "nbformat_minor": 0
}