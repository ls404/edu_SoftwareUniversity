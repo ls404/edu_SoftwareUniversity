{
 "cells": [
  {
   "cell_type": "markdown",
   "source": [
    "# Excercise: Objects and Classes"
   ],
   "metadata": {
    "collapsed": false
   }
  },
  {
   "cell_type": "markdown",
   "source": [
    "------\n",
    "## 1.Storage\n",
    "\n",
    "Create a class Storage. The `__init__` method should accept one parameter: the capacity of the storage. The Storage class should also have an attribute called storage, where all the items will be stored. The class should have two additional methods:\n",
    "    • add_product(product) - adds the product in the storage if there is space for it\n",
    "    • get_products() - returns the storage list\n",
    "\n",
    "`example`\n",
    "\n",
    "Test Code|Output\n",
    "-|-\n",
    "storage = Storage(4)<br>storage.add_product(\"apple\")<br>storage.add_product(\"banana\")<br>storage.add_product(\"potato\")<br>storage.add_product(\"tomato\")<br>storage.add_product(\"bread\")<br>print(storage.get_products())|['apple', 'banana', 'potato', 'tomato']"
   ],
   "metadata": {
    "collapsed": false,
    "pycharm": {
     "name": "#%% md\n"
    }
   }
  },
  {
   "cell_type": "code",
   "execution_count": 2,
   "outputs": [
    {
     "name": "stdout",
     "text": [
      "['apple', 'banana', 'potato', 'tomato']\n"
     ],
     "output_type": "stream"
    }
   ],
   "source": [
    "class Storage:\n",
    "    def __init__(self, capacity):\n",
    "        self.capacity = capacity\n",
    "        self.storage = []\n",
    "        \n",
    "    def add_product(self, product):\n",
    "        if len(self.storage) < self.capacity:\n",
    "            self.storage.append(product)\n",
    "    \n",
    "    def get_products(self):\n",
    "        return self.storage\n",
    "\n",
    "storage = Storage(4)\n",
    "storage.add_product(\"apple\")\n",
    "storage.add_product(\"banana\")\n",
    "storage.add_product(\"potato\")\n",
    "storage.add_product(\"tomato\")\n",
    "storage.add_product(\"bread\")\n",
    "print(storage.get_products())"
   ],
   "metadata": {
    "collapsed": false,
    "pycharm": {
     "name": "#%%\n",
     "is_executing": false
    }
   }
  },
  {
   "cell_type": "markdown",
   "source": [
    "-------\n",
    "## 2. Weapon\n",
    "\n",
    "\n",
    "Create a class Weapon. The `__init__` method should receive an amount of bullets (integer). Create an attribute called bullets, to store them. The class should also have the following methods:\n",
    "* shoot() - if there are bullets in the weapon, reduce them by 1 and return a message \"shooting…\". If there are no bullets left, return: \"no bullets left\"\n",
    "\n",
    "You should also override the toString method, so that the following code: print(weapon) should work. To do that define a `__repr__` method that returns \"Remaining bullets: {amount_of_bullets}\". You can read more about the `__repr__` method here: [link](https://www.journaldev.com/22460/python-str-repr-functions)\n",
    "\n",
    "`Example`\n",
    "\n",
    "Test Code|Output\n",
    "-|-\n",
    "weapon = Weapon(5)<br>weapon.shoot()<br>weapon.shoot()<br>weapon.shoot()<br>weapon.shoot()<br>weapon.shoot()<br>weapon.shoot()<br>print(weapon)|Remaining bullets: 0"
   ],
   "metadata": {
    "collapsed": false
   }
  },
  {
   "cell_type": "code",
   "execution_count": 3,
   "outputs": [
    {
     "name": "stdout",
     "text": [
      "Remaining bullets: 0\n"
     ],
     "output_type": "stream"
    }
   ],
   "source": [
    "class Weapon:\n",
    "    def __init__(self, bullets):\n",
    "        self.bullets = bullets\n",
    "    \n",
    "    def shoot(self):\n",
    "        if self.bullets > 0:\n",
    "            self.bullets -= 1\n",
    "            return 'shooting...'\n",
    "        else:\n",
    "            return 'no bullets left'\n",
    "    \n",
    "    def __repr__(self):\n",
    "        return f'Remaining bullets: {self.bullets}'\n",
    "\n",
    "weapon = Weapon(5)\n",
    "weapon.shoot()\n",
    "weapon.shoot()\n",
    "weapon.shoot()\n",
    "weapon.shoot()\n",
    "weapon.shoot()\n",
    "weapon.shoot()\n",
    "print(weapon)"
   ],
   "metadata": {
    "collapsed": false,
    "pycharm": {
     "name": "#%%\n",
     "is_executing": false
    }
   }
  },
  {
   "cell_type": "markdown",
   "source": [
    "-------\n",
    "## 3.Catalogue\n",
    "\n",
    "Create a class Catalogue. The `__init__` method should accept the name of the catalogue. Each catalogue should also have an attribute called products and it should be a list. The class should also have three more methods:\n",
    "* **add_product(product)** - add the product to the product list\n",
    "* **get_by_letter(first_letter)** - returns a list containing only the products that start with the given letter\n",
    "* `__repr__` - returns the catalogue info in the following format: <br>\n",
    "**\"Items in the {name} catalogue:<br>\n",
    "{item1}<br>\n",
    "{item2}<br>\n",
    "…\"**\n",
    "The items should be **sorted alphabetically** (default sorting)\n",
    "\n",
    "`example`\n",
    "\n",
    "Test Code|Output\n",
    "-|-\n",
    "catalogue = Catalogue(\"Furniture\")<br>catalogue.add_product(\"Sofa\")<br>catalogue.add_product(\"Mirror\")<br>catalogue.add_product(\"Desk\")<br>catalogue.add_product(\"Chair\")<br>catalogue.add_product(\"Carpet\")<br>print(catalogue.get_by_letter(\"C\"))<br>print(catalogue)|['Chair', 'Carpet']<br>Items in the Furniture catalogue:<br>Carpet<br>Chair<br>Desk<br>Mirror<br>Sofa\n"
   ],
   "metadata": {
    "collapsed": false,
    "pycharm": {
     "name": "#%% md\n"
    }
   }
  },
  {
   "cell_type": "code",
   "execution_count": 14,
   "outputs": [
    {
     "name": "stdout",
     "text": [
      "['Chair', 'Carpet']\n",
      "Items in the Furniture catalogue:\n",
      "Carpet \n",
      "Chair \n",
      "Desk \n",
      "Mirror \n",
      "Sofa\n"
     ],
     "output_type": "stream"
    }
   ],
   "source": [
    "class Catalogue:\n",
    "    def __init__(self, name):\n",
    "        self.name = name\n",
    "        self.products = []\n",
    "    \n",
    "    def add_product(self, product):\n",
    "        self.products.append(product)\n",
    "    \n",
    "    def get_by_letter(self, letter):\n",
    "        return [x for x in self.products if x[0] == letter]\n",
    "    \n",
    "    def __repr__(self):\n",
    "        return (\n",
    "            f\"Items in the {self.name} catalogue:\\n\" +\n",
    "            '\\n'.join(sorted([x for x in self.products]))\n",
    "        )\n",
    "\n",
    "\n",
    "catalogue = Catalogue(\"Furniture\")\n",
    "catalogue.add_product(\"Sofa\")\n",
    "catalogue.add_product(\"Mirror\")\n",
    "catalogue.add_product(\"Desk\")\n",
    "catalogue.add_product(\"Chair\")\n",
    "catalogue.add_product(\"Carpet\")\n",
    "print(catalogue.get_by_letter(\"C\"))\n",
    "print(catalogue)"
   ],
   "metadata": {
    "collapsed": false,
    "pycharm": {
     "name": "#%%\n",
     "is_executing": false
    }
   }
  }
 ],
 "metadata": {
  "kernelspec": {
   "display_name": "Python 3",
   "language": "python",
   "name": "python3"
  },
  "language_info": {
   "codemirror_mode": {
    "name": "ipython",
    "version": 2
   },
   "file_extension": ".py",
   "mimetype": "text/x-python",
   "name": "python",
   "nbconvert_exporter": "python",
   "pygments_lexer": "ipython2",
   "version": "2.7.6"
  },
  "pycharm": {
   "stem_cell": {
    "cell_type": "raw",
    "source": [],
    "metadata": {
     "collapsed": false
    }
   }
  }
 },
 "nbformat": 4,
 "nbformat_minor": 0
}