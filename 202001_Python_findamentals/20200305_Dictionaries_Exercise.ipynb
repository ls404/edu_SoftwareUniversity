{
 "cells": [
  {
   "cell_type": "markdown",
   "source": [
    "# Excelrcise - Dictionaries"
   ],
   "metadata": {
    "collapsed": false
   }
  },
  {
   "cell_type": "markdown",
   "source": [
    "-----\n",
    "## 1. Count Chars in a String\n",
    "Write a program that counts all characters in a string except for space (' '). \n",
    "Print all the occurrences in the following format:\n",
    "\n",
    "**{char} -> {occurrences}**\n",
    "\n",
    "`Examples`\n",
    "\n",
    "Input|Output\n",
    "-|-\n",
    "text|t -> 2<br>e -> 1<br>x -> 1\n",
    "text text text|t -> 6<br>e -> 3<br>x -> 3"
   ],
   "metadata": {
    "collapsed": false,
    "pycharm": {
     "name": "#%% md\n"
    }
   }
  },
  {
   "cell_type": "code",
   "execution_count": 3,
   "outputs": [
    {
     "name": "stdout",
     "text": [
      "t -> 2\n",
      "e -> 1\n",
      "x -> 1\n"
     ],
     "output_type": "stream"
    }
   ],
   "source": [
    "text = input().split()\n",
    "text = ''.join(text)\n",
    "result = {}\n",
    "for i in text:\n",
    "    if i in result:\n",
    "        result[i] += 1\n",
    "    else:\n",
    "        result[i] = 1\n",
    "\n",
    "for i in result:\n",
    "    print(f\"{i} -> {result[i]}\")"
   ],
   "metadata": {
    "collapsed": false,
    "pycharm": {
     "name": "#%%\n",
     "is_executing": false
    }
   }
  },
  {
   "cell_type": "markdown",
   "source": [
    "-----\n",
    "##    2. A Miner Task\n",
    "You will be given a sequence of strings, each on a new line. Every odd line on the console is representing a resource (e.g. Gold, Silver, Copper, and so on) and every even – quantity. Your task is to collect the resources and print them each on a new line.\n",
    "\n",
    "Print the resources and their quantities in the following format:\n",
    "**{resource} –> {quantity}**\n",
    "\n",
    "The quantities will be in the range [1 … 2 000 000 000]\n",
    "\n",
    "`Examples`\n",
    "\n",
    "Input|Output\n",
    "-|-\n",
    "Gold<br>155<br>Silver<br>10<br>Copper<br>17<br>stop|Gold -> 155<br>Silver -> 10<br>Copper -> 17<br>\n",
    "gold<br>155<br>silver<br>10<br>copper<br>17<br>gold<br>15<br>stop|gold -> 170<br>silver -> 10<br>copper -> 17\n"
   ],
   "metadata": {
    "collapsed": false
   }
  },
  {
   "cell_type": "code",
   "execution_count": 4,
   "outputs": [
    {
     "name": "stdout",
     "text": [
      "Gold -> 155\n",
      "Silver -> 10\n",
      "Cooper -> 17\n"
     ],
     "output_type": "stream"
    }
   ],
   "source": [
    "result = {}\n",
    "while True:\n",
    "    data = input()\n",
    "    if data == 'stop':\n",
    "        break\n",
    "    else:\n",
    "        data2 = int(input())\n",
    "        if data in result:\n",
    "            result[data] += data2\n",
    "        else:\n",
    "            result[data] = data2\n",
    "\n",
    "for i in result:\n",
    "    print(f\"{i} -> {result[i]}\")\n"
   ],
   "metadata": {
    "collapsed": false,
    "pycharm": {
     "name": "#%%\n",
     "is_executing": false
    }
   }
  },
  {
   "cell_type": "markdown",
   "source": [
    "------\n",
    "##    3. Legendary Farming\n",
    "You've done all the work and the last thing left to accomplish is to own a legendary item. However, it's a tedious process and it requires quite a bit of farming. Anyway, you are not too pretentious – any legendary item will do. The possible items are:\n",
    "    • Shadowmourne – requires 250 Shards;\n",
    "    • Valanyr – requires 250 Fragments;\n",
    "    • Dragonwrath – requires 250 Motes;\n",
    "Shards, Fragments and Motes are the key materials and everything else is junk. You will be given lines of input, in the format: \n",
    "2 motes 3 ores 15 stones\n",
    "Keep track of the key materials - the first one that reaches the 250 mark, wins the race. At that point you have to print that the corresponding legendary item is obtained. Then, print the remaining shards, fragments, motes, ordered by quantity in descending order, then by name in ascending order, each on a new line. Finally, print the collected junk items in alphabetical order.\n",
    "Input\n",
    "    • Each line comes in the following format: {quantity} {material} {quantity} {material} … {quantity} {material}\n",
    "Output\n",
    "    • On the first line, print the obtained item in the format: {Legendary item} obtained!\n",
    "    • On the next three lines, print the remaining key materials in descending order by quantity\n",
    "        ◦ If two key materials have the same quantity, print them in alphabetical order\n",
    "    • On the final several lines, print the junk items in alphabetical order\n",
    "        ◦ All materials are printed in format {material}: {quantity}\n",
    "        ◦ The output should be lowercase, except for the first letter of the legendary\n",
    "Examples\n",
    "\n",
    "Input\n",
    "Output\n",
    "3 Motes 5 stones 5 Shards\n",
    "6 leathers 255 fragments 7 Shards\n",
    "Valanyr obtained!\n",
    "fragments: 5\n",
    "shards: 5\n",
    "motes: 3\n",
    "leathers: 6\n",
    "stones: 5\n",
    "123 silver 6 shards 8 shards 5 motes\n",
    "9 fangs 75 motes 103 MOTES 8 Shards\n",
    "86 Motes 7 stones 19 silver\n",
    "Dragonwrath obtained!\n",
    "shards: 22\n",
    "motes: 19\n",
    "fragments: 0\n",
    "fangs: 9\n",
    "silver: 123\n",
    "\n",
    "\n"
   ],
   "metadata": {
    "collapsed": false
   }
  },
  {
   "cell_type": "code",
   "execution_count": 13,
   "outputs": [
    {
     "name": "stdout",
     "text": [
      "Valanyr obtained!\n",
      "--- 255\n",
      "fragments: 5\n",
      "shards: 5\n",
      "motes: 3\n",
      "leathers: 6\n",
      "stones: 5\n"
     ],
     "output_type": "stream"
    }
   ],
   "source": [
    "key_materials = {\n",
    "    'shards':0,\n",
    "    'fragments':0,\n",
    "    'motes':0\n",
    "}\n",
    "junk_materials = {}\n",
    "\n",
    "legendary_recipes = {\n",
    "    'shards':'Shadowmourne',\n",
    "    'fragments':'Valanyr',\n",
    "    'motes':'Dragonwrath'\n",
    "}\n",
    "\n",
    "haveLegendary = False\n",
    "\n",
    "while not haveLegendary:\n",
    "    entry = input().split()\n",
    "    for i in range(0,len(entry),2):\n",
    "        entry[i + 1] = entry[i + 1].lower()\n",
    "        if entry[i+1] in key_materials:\n",
    "            key_materials[entry[i+1]] += int(entry[i])\n",
    "            if key_materials[entry[i+1]] >= 250:\n",
    "                print(f\"{legendary_recipes[entry[i+1]]} obtained!\")\n",
    "                key_materials[entry[i+1]] = key_materials[entry[i+1]] - 250\n",
    "                haveLegendary = True\n",
    "                break\n",
    "        else:\n",
    "            if entry[i+1] in junk_materials:\n",
    "                junk_materials[entry[i+1]] += int(entry[i])\n",
    "            else:\n",
    "                junk_materials[entry[i+1]] = int(entry[i])\n",
    "\n",
    "# for i in sorted(sorted(key_materials, key = lambda x: key_materials[x], reverse=True)):\n",
    "for i in sorted(sorted(key_materials), key = lambda x: key_materials[x], reverse=True):\n",
    "    print(f\"{i}: {key_materials[i]}\")\n",
    "\n",
    "for i in sorted(junk_materials):\n",
    "    print(f\"{i}: {junk_materials[i]}\")\n",
    "\n",
    "\n",
    "            \n",
    "                \n",
    "    "
   ],
   "metadata": {
    "collapsed": false,
    "pycharm": {
     "name": "#%%\n",
     "is_executing": false
    }
   }
  },
  {
   "cell_type": "markdown",
   "source": [
    "------\n",
    "##    4. Orders\n",
    "Write a program that keeps information about products and their prices. Each product has a name, a price and a quantity. If the product doesn't exist yet, add it with its starting quantity.\n",
    "If you receive a product, which already exists, increase its quantity by the input quantity and if its price is different, replace the price as well.\n",
    "You will receive products' names, prices and quantities on new lines. Until you receive the command \"buy\", keep adding items. When you do receive the command \"buy\", print the items with their names and total price of all the products with that name. \n",
    "Input\n",
    "    • Until you receive \"buy\", the products will be coming in the format: \"{name} {price} {quantity}\".\n",
    "    • The product data is always delimited by a single space.\n",
    "Output\n",
    "    • Print information about each product in the following format: \n",
    "\"{productName} -> {totalPrice}\"\n",
    "    • Format the average grade to the 2nd digit after the decimal separator.\n",
    "Examples\n",
    "\n",
    "Input|Output\n",
    "-|-\n",
    "Beer 2.20 100<br>IceTea 1.50 50<br>NukaCola 3.30 80<br>Water 1.00 500<br>buy|Beer -> 220.00<br>IceTea -> 75.00<br>NukaCola -> 264.00<br>Water -> 500.00\n",
    "Beer 2.40 350<br>Water 1.25 200<br>IceTea 5.20 100<br>Beer 1.20 200<br>IceTea 0.50 120<br>buy|Beer -> 660.00<br>Water -> 250.00<br>IceTea -> 110.00\n",
    "CesarSalad 10.20 25<br>SuperEnergy 0.80 400<br>Beer 1.35 350<br>IceCream 1.50 25<br>buy|CesarSalad -> 255.00<br>SuperEnergy -> 320.00<br>Beer -> 472.50<br>IceCream -> 37.50\n"
   ],
   "metadata": {
    "collapsed": false
   }
  },
  {
   "cell_type": "code",
   "execution_count": 5,
   "outputs": [
    {
     "name": "stdout",
     "text": [
      "Beer -> 220.00\n",
      "IceTea -> 75.00\n",
      "NukaCola -> 264.00\n",
      "Water -> 500.00\n"
     ],
     "output_type": "stream"
    }
   ],
   "source": [
    "products_list = []\n",
    "products_dict = {}\n",
    "\n",
    "while True:\n",
    "    command = input()\n",
    "    if command == 'buy':\n",
    "        break\n",
    "    else:\n",
    "        command = command.split()\n",
    "        product = command[0]\n",
    "        unit_price = float(command[1])\n",
    "        qty = int(command[2])\n",
    "    if product not in products_list:\n",
    "        products_list.append(product)\n",
    "        products_dict[product] = [unit_price, qty]        \n",
    "    else:\n",
    "        old_qty = products_dict[product][1]\n",
    "        products_dict[product] = [unit_price, qty + old_qty]\n",
    "        \n",
    "for i in products_list:\n",
    "    print(f\"{i} -> {products_dict[i][0]*products_dict[i][1]:.2f}\")"
   ],
   "metadata": {
    "collapsed": false,
    "pycharm": {
     "name": "#%%\n",
     "is_executing": false
    }
   }
  },
  {
   "cell_type": "markdown",
   "source": [
    "-------\n",
    "##    5. SoftUni Parking\n",
    "SoftUni just got a new parking lot. It's so fancy, it even has online parking validation. Except the online service doesn't work. It can only receive users' data, but it doesn't know what to do with it. Good thing you're on the dev team and know how to fix it, right?\n",
    "Write a program, which validates a parking place for an online service. Users can register to park and unregister to leave.\n",
    "The program receives 2 types of commands:\t\n",
    "* \"register {username} {licensePlateNumber}\":\n",
    "    * The system only supports one car per user at the moment, so if a user tries to register another license plate, using the same username, the system should print:\n",
    "\"ERROR: already registered with plate number {licensePlateNumber}\"\n",
    "    * If the aforementioned checks passes successfully, the plate can be registered, so the system should print:\n",
    " \"{username} registered {licensePlateNumber} successfully\"\n",
    "* \"unregister {username}\":\n",
    "    * If the user is not present in the database, the system should print:\n",
    "\"ERROR: user {username} not found\"\n",
    "    * If the aforementioned check passes successfully, the system should print:\n",
    "\"{username} unregistered successfully\"\n",
    "\n",
    "After you execute all of the commands, print all the currently registered users and their license plates in the format: \n",
    "   * \"{username} => {licensePlateNumber}\"\n",
    "Input\n",
    "   * First line: n – number of commands – integer\n",
    "   * Next n lines: commands in one of the two possible formats:\n",
    "        * Register: \"register {username} {licensePlateNumber}\"\n",
    "        * Unregister: \"unregister {username}\"\n",
    "        \n",
    "The input will always be valid and you do not need to check it explicitly.\n",
    "\n",
    "`Examples`\n",
    "\n",
    "Input|Output\n",
    "-|-\n",
    "5<br>register John CS1234JS<br>register George JAVA123S<br>register Andy AB4142CD<br>register Jesica VR1223EE<br>unregister Andy|John registered CS1234JS successfully<br>George registered JAVA123S successfully<br>Andy registered AB4142CD successfully<br>Jesica registered VR1223EE successfully<br>Andy unregistered successfully<br>John => CS1234JS<br>George => JAVA123S<br>Jesica => VR1223EE\n",
    "4<br>register Jony AA4132BB<br>register Jony AA4132BB<br>register Linda AA9999BB<br>unregister Jony|Jony registered AA4132BB successfully<br>ERROR: already registered with plate number AA4132BB<br>Linda registered AA9999BB successfully<br>Jony unregistered successfully<br>Linda => AA9999BB\n",
    "6<br>register Jacob MM1111XX<br>register Anthony AB1111XX<br>unregister Jacob<br>register Joshua DD1111XX<br>unregister Lily<br>register Samantha AA9999BB|Jacob registered MM1111XX successfully<br>Anthony registered AB1111XX successfully<br>Jacob unregistered successfully<br>Joshua registered DD1111XX successfully<br>ERROR: user Lily not found<br>Samantha registered AA9999BB successfully<br>Joshua => DD1111XX<br>Anthony => AB1111XX<br>Samantha => AA9999BB"
   ],
   "metadata": {
    "collapsed": false
   }
  },
  {
   "cell_type": "code",
   "execution_count": 17,
   "outputs": [
    {
     "name": "stdout",
     "text": [
      "John registered CS1234JS successfully\n",
      "George registered JAVA123S successfully\n",
      "Andy registered AB4142CD successfully\n",
      "Jesica registered VR1223EE successfully\n",
      "Andy unregistered successfully\n",
      "John => CS1234JS\n",
      "George => JAVA123S\n",
      "Jesica => VR1223EE\n"
     ],
     "output_type": "stream"
    }
   ],
   "source": [
    "visitors_dict = {}\n",
    "operations = int(input())\n",
    "\n",
    "for i in range(operations):\n",
    "    entry = input().split()\n",
    "    command = entry[0]\n",
    "    person = entry[1]\n",
    "    if command == 'register':\n",
    "        if person in visitors_dict:\n",
    "            print(f\"ERROR: already registered with plate number {visitors_dict[person]}\")\n",
    "        else:\n",
    "            visitors_dict[person] = entry[2]\n",
    "            print(f\"{person} registered {visitors_dict[person]} successfully\")\n",
    "    if command == 'unregister':\n",
    "        if person in visitors_dict:\n",
    "            print(f\"{person} unregistered successfully\")\n",
    "            del visitors_dict[person]\n",
    "        else:\n",
    "            print(f\"ERROR: user {person} not found\")\n",
    "\n",
    "for i in visitors_dict:\n",
    "    print(f\"{i} => {visitors_dict[i]}\")\n",
    "            \n",
    "            \n",
    "            "
   ],
   "metadata": {
    "collapsed": false,
    "pycharm": {
     "name": "#%%\n",
     "is_executing": false
    }
   }
  },
  {
   "cell_type": "markdown",
   "source": [
    "##    6. Courses\n",
    "Write a program that keeps information about courses. Each course has a name and registered students.\n",
    "You will be receiving a course name and a student name, until you receive the command \"end\". Check if such course already exists, and if not, add the course. Register the user into the course. When you receive the command \"end\", print the courses with their names and total registered users, ordered by the count of registered users in descending order. For each contest print the registered users ordered by name in ascending order.\n",
    "Input\n",
    "    • Until the \"end\" command is received, you will be receiving input in the format: \"{courseName} : {studentName}\".\n",
    "    • The product data is always delimited by \" : \".\n",
    "Output\n",
    "    • Print the information about each course in the following the format: \n",
    "\"{courseName}: {registeredStudents}\"\n",
    "    • Print the information about each student, in the following the format:\n",
    "\"-- {studentName}\"\n",
    "Examples\n",
    "\n",
    "Input\n",
    "Output\n",
    "Programming Fundamentals : John Smith\n",
    "Programming Fundamentals : Linda Johnson\n",
    "JS Core : Will Wilson\n",
    "Java Advanced : Harrison White\n",
    "end\n",
    "Programming Fundamentals: 2\n",
    "-- John Smith\n",
    "-- Linda Johnson\n",
    "JS Core: 1\n",
    "-- Will Wilson\n",
    "Java Advanced: 1\n",
    "-- Harrison White\n",
    "Algorithms : Jay Moore\n",
    "Programming Basics : Martin Taylor\n",
    "Python Fundamentals : John Anderson\n",
    "Python Fundamentals : Andrew Robinson\n",
    "Algorithms : Bob Jackson\n",
    "Python Fundamentals : Clark Lewis\n",
    "end\n",
    "Python Fundamentals: 3\n",
    "-- Andrew Robinson\n",
    "-- Clark Lewis\n",
    "-- John Anderson\n",
    "Algorithms: 2\n",
    "-- Bob Jackson\n",
    "-- Jay Moore\n",
    "Programming Basics: 1\n",
    "-- Martin Taylor\n"
   ],
   "metadata": {
    "collapsed": false
   }
  },
  {
   "cell_type": "code",
   "execution_count": null,
   "outputs": [],
   "source": [
    "from collections import defaultdict\n",
    "\n",
    "courses = defaultdict(list)\n",
    "while True:\n",
    "    command = input()\n",
    "    if command == 'end':\n",
    "        break\n",
    "    command = command.split(' : ')\n",
    "    course = command[0]\n",
    "    person = command[1]\n",
    "    courses[course].append(person)\n",
    "\n",
    "for i in sorted(courses, key = lambda x: len(courses[x]), reverse=True):\n",
    "    print(f\"{i}: {len(courses[i])}\")\n",
    "    for k in sorted(courses[i]):\n",
    "        print(f\"-- {k}\")"
   ],
   "metadata": {
    "collapsed": false,
    "pycharm": {
     "name": "#%%\n",
     "is_executing": true
    }
   }
  },
  {
   "cell_type": "markdown",
   "source": [
    "    7.  Student Academy\n",
    "Write a program that keeps information about students and their grades. \n",
    "You will receive n pair of rows. First you will receive the student's name, after that you will receive his grade. Check if the student already exists and if not, add him. Keep track of all grades for each student.\n",
    "When you finish reading the data, keep the students with average grade higher than or equal to 4.50. Order the filtered students by average grade in descending order.\n",
    "Print the students and their average grade in the following format:\n",
    "{name} –> {averageGrade}\n",
    "Format the average grade to the 2nd decimal place.\n",
    "\n",
    "Examples\n",
    "\n",
    "Input\n",
    "Output\n",
    "\n",
    "Input\n",
    "Output\n",
    "5\n",
    "John\n",
    "5.5\n",
    "John\n",
    "4.5\n",
    "Alice\n",
    "6\n",
    "Alice\n",
    "3\n",
    "George\n",
    "5\n",
    "John -> 5.00\n",
    "George -> 5.00\n",
    "Alice -> 4.50\n",
    "\n",
    "5\n",
    "Amanda\n",
    "3.5\n",
    "Amanda\n",
    "4\n",
    "Rob\n",
    "5.5\n",
    "Christian\n",
    "5\n",
    "Robert\n",
    "6\n",
    "Robert -> 6.00\n",
    "Rob -> 5.50\n",
    "Christian -> 5.00\n",
    "\n"
   ],
   "metadata": {
    "collapsed": false
   }
  },
  {
   "cell_type": "code",
   "execution_count": 3,
   "outputs": [
    {
     "name": "stdout",
     "text": [
      "Alice -> 4.50\n",
      "John -> 5.00\n",
      "George -> 5.00\n"
     ],
     "output_type": "stream"
    }
   ],
   "source": [
    "from collections import defaultdict\n",
    "\n",
    "students = defaultdict(list)\n",
    "\n",
    "entries = int(input())\n",
    "\n",
    "for i in range(entries):\n",
    "    student = input()\n",
    "    grade = float(input())\n",
    "    students[student].append(grade)\n",
    "\n",
    "students2 = {key:value for(key,value) in students.items() if sum(value)/len(value) >= 4.5} \n",
    "\n",
    "for i in sorted(students2, key= lambda x: sum(students2[x])/len(students2[x]), reverse=True):\n",
    "    print(f\"{i} -> {sum(students2[i])/len(students2[i]):.2f}\")\n",
    "    "
   ],
   "metadata": {
    "collapsed": false,
    "pycharm": {
     "name": "#%%\n",
     "is_executing": false
    }
   }
  },
  {
   "cell_type": "markdown",
   "source": [
    "##    8. Company Users\n",
    "Write a program that keeps information about companies and their employees. \n",
    "You will be receiving a company name and an employee's id, until you receive the command \"End\" command. Add each employee to the given company. Keep in mind that a company cannot have two employees with the same id.\n",
    "When you finish reading the data, order the companies by the name in ascending order. \n",
    "Print the company name and each employee's id in the following format:\n",
    "{companyName}\n",
    "-- {id1}\n",
    "-- {id2}\n",
    "-- {idN}\n",
    "\n",
    "Examples\n",
    "\n",
    "Input\n",
    "Output\n",
    "SoftUni -> AA12345\n",
    "SoftUni -> BB12345\n",
    "Microsoft -> CC12345\n",
    "HP -> BB12345\n",
    "End\n",
    "HP\n",
    "-- BB12345\n",
    "Microsoft\n",
    "-- CC12345\n",
    "SoftUni\n",
    "-- AA12345\n",
    "-- BB12345\n",
    "SoftUni -> AA12345\n",
    "SoftUni -> CC12344\n",
    "Lenovo -> XX23456\n",
    "SoftUni -> AA12345\n",
    "Movement -> DD11111\n",
    "End\n",
    "Lenovo\n",
    "-- XX23456\n",
    "Movement\n",
    "-- DD11111\n",
    "SoftUni\n",
    "-- AA12345\n",
    "-- CC12344\n",
    "\n",
    "\n",
    "\n"
   ],
   "metadata": {
    "collapsed": false
   }
  },
  {
   "cell_type": "code",
   "execution_count": 4,
   "outputs": [
    {
     "name": "stdout",
     "text": [
      "SoftUni\n",
      "-- BB12345\n",
      "-- BB12345ased\n",
      "-- BB12345ert\n"
     ],
     "output_type": "stream"
    }
   ],
   "source": [
    "from collections import defaultdict\n",
    "\n",
    "companies = defaultdict(list)\n",
    "\n",
    "while True:\n",
    "    command = input()\n",
    "    if command == \"End\":\n",
    "        break\n",
    "    entry = command.split(\" -> \")\n",
    "    company = entry[0]\n",
    "    pid = entry[1]    \n",
    "    if pid not in companies[company]:\n",
    "        companies[company].append(pid)    \n",
    "\n",
    "for i in sorted(companies):\n",
    "    print(i)\n",
    "    for k in companies[i]:\n",
    "        print(f\"-- {k}\")\n",
    "\n",
    "\n"
   ],
   "metadata": {
    "collapsed": false,
    "pycharm": {
     "name": "#%%\n",
     "is_executing": false
    }
   }
  },
  {
   "cell_type": "code",
   "execution_count": null,
   "outputs": [],
   "source": [
    "companies = {}\n",
    " \n",
    "while True:\n",
    "    command = input()\n",
    "    if command == \"End\":\n",
    "        break\n",
    "    company, employee_id = command.split(\" -> \")\n",
    "    if company not in companies:\n",
    "        companies[company] = [employee_id]\n",
    "    else:\n",
    "        if employee_id not in companies[company]:\n",
    "            companies[company] += [employee_id]\n",
    " \n",
    "for company, employees in sorted(companies.items()):\n",
    "    print(f\"{company}\")\n",
    "    for employee in employees:\n",
    "        print(f\"-- {employee}\")"
   ],
   "metadata": {
    "collapsed": false,
    "pycharm": {
     "name": "#%%\n"
    }
   }
  },
  {
   "cell_type": "markdown",
   "source": [
    "    9. *ForceBook\n",
    "The force users are struggling to remember which side are the different forceUsers from, because they switch them too often. So you are tasked to create a web application to manage their profiles. You should store an information for every unique forceUser, registered in the application.\n",
    "You will receive several input lines in one of the following formats:\n",
    "{forceSide} | {forceUser}\n",
    "{forceUser} -> {forceSide}\n",
    "The forceUser and forceSide are strings, containing any character. \n",
    "If you receive forceSide | forceUser, you should check if such forceUser already exists, and if not, add him/her to the corresponding side. \n",
    "If you receive a forceUser -> forceSide, you should check if there is such a forceUser already and if so, change his/her side. If there is no such forceUser, add him/her to the corresponding forceSide, treating the command as a new registered forceUser.\n",
    "Then you should print on the console: \"{forceUser} joins the {forceSide} side!\" \n",
    "You should end your program when you receive the command \"Lumpawaroo\". At that point you should print each force side, ordered descending by forceUsers count, than ordered by name. For each side print the forceUsers, ordered by name.\n",
    "In case there are no forceUsers in a side, you shouldn`t print the side information. \n",
    "Input / Constraints\n",
    "    • The input comes in the form of commands in one of the formats specified above.\n",
    "    • The input ends, when you receive the command \"Lumpawaroo\".\n",
    "Output\n",
    "    • As output for each forceSide, ordered descending by forceUsers count, then by name,  you must print all the forceUsers, ordered by name alphabetically.\n",
    "    • The output format is:\n",
    "Side: {forceSide}, Members: {forceUsers.Count}\n",
    "! {forceUser}\n",
    "! {forceUser}\n",
    "! {forceUser}\n",
    "    • In case there are NO forceUsers, don`t print this side. \n",
    "`Examples`\n",
    "\n",
    "Input\n",
    "Output\n",
    "Comments\n",
    "Light | Gosho\n",
    "Dark | Pesho\n",
    "Lumpawaroo\n",
    "Side: Dark, Members: 1\n",
    "! Pesho\n",
    "Side: Light, Members: 1\n",
    "! Gosho\n",
    "We register Gosho in the Light side and Pesho in the Dark side. After receiving \"Lumpawaroo\" we print both sides, ordered by membersCount and then by name.\n",
    "Lighter | Royal\n",
    "Darker | DCay\n",
    "Ivan Ivanov -> Lighter\n",
    "DCay -> Lighter\n",
    "Lumpawaroo\n",
    "Ivan Ivanov joins the Lighter side!\n",
    "DCay joins the Lighter side!\n",
    "Side: Lighter, Members: 3\n",
    "! DCay\n",
    "! Ivan Ivanov\n",
    "! Royal\n",
    "Although Ivan Ivanov doesn`t have profile, we register him and add him to the Lighter side.\n",
    "We remove DCay from Darker side and add him to Lighter side.\n",
    "We print only Lighter side because Darker side has no members.\n"
   ],
   "metadata": {
    "collapsed": false
   }
  },
  {
   "cell_type": "code",
   "execution_count": null,
   "outputs": [],
   "source": [
    "sides = {}\n",
    " \n",
    "while True:\n",
    "    command = input()\n",
    " \n",
    "    if command == \"Lumpawaroo\":\n",
    "        break\n",
    " \n",
    "    tokens = command.split(\" | \")\n",
    " \n",
    "    if len(tokens) == 2:\n",
    "        side, user = tokens\n",
    "        is_contained = False\n",
    "        for key, value in sides.items():\n",
    "            if user in value:\n",
    "                is_contained = True\n",
    "        if not is_contained:\n",
    "            if side not in sides:\n",
    "                sides[side] = []\n",
    "            sides[side].append(user)\n",
    " \n",
    "    else:\n",
    "        tokens = command.split(\" -> \")\n",
    "        user, side = tokens\n",
    " \n",
    "        for key, value in sides.items():\n",
    "            if user in value:\n",
    "                sides[key].remove(user)\n",
    " \n",
    "        if side not in sides:\n",
    "            sides[side] = []\n",
    "        sides[side].append(user)\n",
    "        print(f\"{user} joins the {side} side!\")\n",
    " \n",
    "for side, users in sorted(sides.items(), key=lambda x: (-len(x[1]), x[0])):\n",
    "    if len(users) >= 1:\n",
    "        print(f\"Side: {side}, Members: {len(users)}\")\n",
    "        for user in sorted(users):\n",
    "            print(f\"! {user}\")"
   ],
   "metadata": {
    "collapsed": false,
    "pycharm": {
     "name": "#%%\n"
    }
   }
  },
  {
   "cell_type": "markdown",
   "source": [
    "    10. *SoftUni Exam Results\n",
    "Judge statistics on the last Programing Fundamentals exam was not working correctly, so you have the task to take all the submissions and analyze them properly. You should collect all the submissions and print the final results and statistics about each language that the participants submitted their solutions in.\n",
    "You will be receiving lines in the following format: \"{username}-{language}-{points}\" until you receive \"exam finished\". You should store each username and his submissions and points. \n",
    "You can receive a command to ban a user for cheating in the following format: \"{username}-banned\". In that case, you should remove the user from the contest, but preserve his submissions in the total count of submissions for each language.\n",
    "After receiving \"exam finished\" print each of the participants, ordered descending by their max points, then by username, in the following format:\n",
    "Results:\n",
    "{username} | {points}\n",
    "\n",
    "After that print each language, used in the exam, ordered descending by total submission count and then by language name, in the following format:\n",
    "Submissions:\n",
    "{language} – {submissionsCount}\n",
    "…\n",
    "Input / Constraints\n",
    "Until you receive \"exam finished\" you will be receiving participant submissions in the following format: \"{username}-{language}-{points}\".\n",
    "You can receive a ban command -> \"{username}-banned\"\n",
    "The points of the participant will always be a valid integer in the range [0-100];\n",
    "Output\n",
    "    • Print the exam results for each participant, ordered descending by max points and then by username, in the following format: \n",
    "Results:\n",
    "{username} | {points}\n",
    "…\n",
    "    • After that print each language, ordered descending by total submissions and then by language name, in the following format:\n",
    "Submissions:\n",
    "{language} – {submissionsCount}\n",
    "…\n",
    "    • Allowed working time / memory: 100ms / 16MB.\n",
    "Examples\n",
    "\n",
    "Input\n",
    "Output\n",
    "Comment\n",
    "Pesho-Java-84\n",
    "Gosho-C#-84\n",
    "Gosho-C#-70\n",
    "Kiro-C#-94\n",
    "exam finished\n",
    "Results:\n",
    "Kiro | 94\n",
    "Gosho | 84\n",
    "Pesho | 84\n",
    "Submissions:\n",
    "C# - 3\n",
    "Java - 1\n",
    "We order the participant descending by max points and then by name, printing only the username and the max points.\n",
    "After that we print each language along with the count of submissions, ordered descending by submissions count, and then by language name.\n",
    "Pesho-Java-91\n",
    "Gosho-C#-84\n",
    "Kiro-Java-90\n",
    "Kiro-C#-50\n",
    "Kiro-banned\n",
    "exam finished\n",
    "Results:\n",
    "Pesho | 91\n",
    "Gosho | 84\n",
    "Submissions:\n",
    "C# - 2\n",
    "Java - 2\n",
    "Kiro is banned so he is removed from the contest, but he`s submissions are still preserved in the languages submissions count. \n",
    "So althou there are only 2 participants in the results, there are 4 submissions in total."
   ],
   "metadata": {
    "collapsed": false
   }
  },
  {
   "cell_type": "code",
   "execution_count": null,
   "outputs": [],
   "source": [
    "class Submissions:\n",
    "    all_users = []\n",
    "    submissions = {}\n",
    " \n",
    "    def __init__(self, username, language, points):\n",
    "        self.username = username\n",
    "        self.language = language\n",
    "        self.points = int(points)\n",
    "        self.add_or_update_user()\n",
    "        self.add_or_update_submission()\n",
    " \n",
    "    @classmethod\n",
    "    def run(cls):\n",
    "        while True:\n",
    "            submission = input()\n",
    "            if submission == \"exam finished\":\n",
    "                Submissions.print()\n",
    "                break\n",
    "            submission = submission.split(\"-\")\n",
    "            if len(submission) == 3:\n",
    "                Submissions(submission[0], submission[1], int(submission[2]))\n",
    "            else:\n",
    "                Submissions.banned(submission[0])\n",
    " \n",
    "    def add_or_update_user(self):\n",
    "        add_new_user = True\n",
    "        for user in Submissions.all_users:\n",
    "            if user.username == self.username:\n",
    "                add_new_user = False\n",
    "                if self.points > user.points:\n",
    "                    user.points = self.points\n",
    "        if add_new_user:\n",
    "            Submissions.all_users += [self]\n",
    " \n",
    "    def add_or_update_submission(self):\n",
    "        if self.language not in Submissions.submissions:\n",
    "            Submissions.submissions[self.language] = 1\n",
    "        else:\n",
    "            Submissions.submissions[self.language] += 1\n",
    " \n",
    "    @classmethod\n",
    "    def print(cls):\n",
    "        print(\"Results:\")\n",
    "        for user in sorted(Submissions.all_users, key=lambda p: (-p.points, p.username)):\n",
    "            print(f\"{user.username} | {user.points}\")\n",
    "        print(f\"Submissions:\")\n",
    "        for language, count in sorted(Submissions.submissions.items(), key=lambda x: (-x[1], x[0])):\n",
    "            print(f\"{language} - {count}\")\n",
    " \n",
    "    @classmethod\n",
    "    def banned(cls, name):\n",
    "        for user in Submissions.all_users:\n",
    "            if user.username == name:\n",
    "                Submissions.all_users.remove(user)\n",
    " \n",
    " \n",
    "if __name__ == '__main__':\n",
    "    Submissions.run()\n"
   ],
   "metadata": {
    "collapsed": false,
    "pycharm": {
     "name": "#%%\n"
    }
   }
  }
 ],
 "metadata": {
  "kernelspec": {
   "display_name": "Python 3",
   "language": "python",
   "name": "python3"
  },
  "language_info": {
   "codemirror_mode": {
    "name": "ipython",
    "version": 2
   },
   "file_extension": ".py",
   "mimetype": "text/x-python",
   "name": "python",
   "nbconvert_exporter": "python",
   "pygments_lexer": "ipython2",
   "version": "2.7.6"
  },
  "pycharm": {
   "stem_cell": {
    "cell_type": "raw",
    "source": [],
    "metadata": {
     "collapsed": false
    }
   }
  }
 },
 "nbformat": 4,
 "nbformat_minor": 0
}