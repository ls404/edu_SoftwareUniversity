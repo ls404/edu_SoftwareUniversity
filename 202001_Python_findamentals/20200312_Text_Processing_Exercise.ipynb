{
 "cells": [
  {
   "cell_type": "markdown",
   "metadata": {
    "collapsed": true,
    "pycharm": {
     "name": "#%% md\n"
    }
   },
   "source": [
    "-----\n",
    "##    1. Valid Usernames\n",
    "Write a program that reads user names on a single line (joined by \", \") and prints all valid usernames. \n",
    "A valid username is:\n",
    "* Has length between 3 and 16 characters\n",
    "* Contains only letters, numbers, hyphens and underscores\n",
    "* Has no redundant symbols before, after or in between\n",
    "\n",
    "`Examples`\n",
    "\n",
    "Input|Output\n",
    "-|-\n",
    "sh, too_long_username, !lleg@l ch@rs, jeffbutt|jeffbutt\n",
    "Jeff, john45, ab, cd, peter-ivanov, @smith|Jeff<br>John45<br>peter-ivanov"
   ]
  },
  {
   "cell_type": "code",
   "execution_count": 10,
   "outputs": [
    {
     "name": "stdout",
     "text": [
      "jeffbutt\n"
     ],
     "output_type": "stream"
    }
   ],
   "source": [
    "names = input().split(\", \")\n",
    "result = [x for x in names if (3 <= len(x) <= 16) and (x.isalpha() or \"-\" in x or \"_\" in x)]\n",
    "print(\"\\n\".join(result))\n"
   ],
   "metadata": {
    "collapsed": false,
    "pycharm": {
     "name": "#%%\n",
     "is_executing": false
    }
   }
  },
  {
   "cell_type": "markdown",
   "source": [
    "-----\n",
    "##    2.  Character Multiplier\n",
    "Create a program that receives two strings on a single lines seperated by space and prints the sum of their character codes multiplied (multiply str1[0] with str2[0] and add to the total sum). Then continue with the next two characters. If one of the strings is longer than the other, add the remaining character codes to the total sum without multiplication.\n",
    "\n",
    "`Examples`\n",
    "\n",
    "Input|Output\n",
    "-|-\n",
    "George Peter|52114\n",
    "123 522|7647\n",
    "a aaaa|9700\n",
    "\n"
   ],
   "metadata": {
    "collapsed": false
   }
  },
  {
   "cell_type": "code",
   "execution_count": 23,
   "outputs": [
    {
     "name": "stdout",
     "text": [
      "7647\n"
     ],
     "output_type": "stream"
    }
   ],
   "source": [
    "str1, str2 = input().split()\n",
    "min_len = min(len(str1),len(str2))\n",
    "txt1, txt2 = str1[:min_len], str2[:min_len]\n",
    "result = 0\n",
    "for ch1, ch2 in zip(txt1, txt2):\n",
    "    result += ord(ch1) * ord(ch2)\n",
    "rest = \"\" or str1[min_len:] +  \"\" or str2[min_len:]    \n",
    "rest = [ord(x) for x in rest]\n",
    "print(result + sum(rest))"
   ],
   "metadata": {
    "collapsed": false,
    "pycharm": {
     "name": "#%%\n",
     "is_executing": false
    }
   }
  },
  {
   "cell_type": "markdown",
   "source": [
    "-----\n",
    "## 3. Extract File\n",
    "Write a program that reads the path to a file and subtracts the file name and its extension.\n",
    "\n",
    "`Examples`\n",
    "\n",
    "Input|Output\n",
    "-|-\n",
    "C:\\Internal\\training-internal\\Template.pptx|File name: Template<br>File extension: pptx\n",
    "C:\\Projects\\Data-Structures\\LinkedList.cs|File name: LinkedList<br>File extension: cs"
   ],
   "metadata": {
    "collapsed": false
   }
  },
  {
   "cell_type": "code",
   "execution_count": 28,
   "outputs": [
    {
     "name": "stdout",
     "text": [
      "File name: Template\n",
      "File extension: pptx\n"
     ],
     "output_type": "stream"
    }
   ],
   "source": [
    "path = input().split(\"\\\\\")[-1]\n",
    "file, ext = path.split(\".\")\n",
    "print(f\"File name: {file}\")\n",
    "print(f\"File extension: {ext}\")"
   ],
   "metadata": {
    "collapsed": false,
    "pycharm": {
     "name": "#%%\n",
     "is_executing": false
    }
   }
  },
  {
   "cell_type": "markdown",
   "source": [
    "-----\n",
    "##    4.  Caesar Cipher\n",
    "Write a program that returns an encrypted version of the same text. Encrypt the text by shifting each character with three positions forward. For example A would be replaced by D, B would become E, and so on. Print the encrypted text.\n",
    "\n",
    "`Examples`\n",
    "\n",
    "Input|Output\n",
    "-|-\n",
    "Programming is cool!|Surjudpplqj#lv#frro$\n",
    "One year has 365 days.|Rqh#|hdu#kdv#698#gd|v1\n"
   ],
   "metadata": {
    "collapsed": false,
    "pycharm": {
     "name": "#%% md\n"
    }
   }
  },
  {
   "cell_type": "code",
   "execution_count": null,
   "outputs": [],
   "source": [
    "print(''.join(chr(ord(letter) + 3) for letter in input()))"
   ],
   "metadata": {
    "collapsed": false,
    "pycharm": {
     "name": "#%%\n"
    }
   }
  },
  {
   "cell_type": "markdown",
   "source": [
    "------\n",
    "##    5.  Emoticon Finder\n",
    "Find all emoticons in the text. An emoticon always starts with \":\" and is followed by a symbol.\n",
    "\n",
    "The input will be provided as a single string.\n",
    "\n",
    "`Example`\n",
    "\n",
    "Input|Output\n",
    "-|-\n",
    "There are so many emoticons nowadays :P. I have many ideas :O what input to place here :)|:P<br>:O<br>:)\n",
    "\n",
    "\n"
   ],
   "metadata": {
    "collapsed": false,
    "pycharm": {
     "name": "#%% md\n"
    }
   }
  },
  {
   "cell_type": "code",
   "execution_count": null,
   "outputs": [],
   "source": [
    "text = input()\n",
    "counter = 0\n",
    "for i in text:\n",
    "    if i == \":\":\n",
    "        print(\":\" + text[counter + 1])\n",
    "    counter += 1"
   ],
   "metadata": {
    "collapsed": false,
    "pycharm": {
     "name": "#%%\n"
    }
   }
  },
  {
   "cell_type": "markdown",
   "source": [
    "------\n",
    "## 6. Replace Repeating Chars\n",
    "Write a program that reads a string from the console and replaces any sequence of the same letters with a single corresponding letter.\n",
    "\n",
    "`Examples`\n",
    "\n",
    "Input|Output\n",
    "aaaaabbbbbcdddeeeedssaa|abcdedsa\n",
    "qqqwerqwecccwd|qwerqwecwd\n",
    "\n"
   ],
   "metadata": {
    "collapsed": false
   }
  },
  {
   "cell_type": "code",
   "execution_count": null,
   "outputs": [],
   "source": [
    "past_letter = \"\"\n",
    "for i in input():\n",
    "    if len(past_letter) == 0:\n",
    "        past_letter = i\n",
    "    else:\n",
    "        if i != past_letter[-1]:\n",
    "            past_letter += i\n",
    "print(past_letter)\n",
    "\n"
   ],
   "metadata": {
    "collapsed": false,
    "pycharm": {
     "name": "#%%\n"
    }
   }
  },
  {
   "cell_type": "markdown",
   "source": [
    "------\n",
    "     String Explosion\n",
    "Explosions are marked with '>'. Immediately after the mark, there will be an integer, which signifies the strength of the explosion.\n",
    "You should remove x characters (where x is the strength of the explosion), starting after the punch character ('>').\n",
    "If you find another explosion mark ('>') while you’re deleting characters, you should add the strength to your previous explosion.\n",
    "When all characters are processed, print the string without the deleted characters. \n",
    "You should not delete the explosion character – '>', but you should delete the integers, which represent the strength. \n",
    "Input\n",
    "You will receive single line with the string.\n",
    "Output\n",
    "Print what is left from the string after explosions.\n",
    "Constraints\n",
    "    • You will always receive a strength for the punches\n",
    "    • The path will consist only of letters from the Latin alphabet, integers and the char '>'\n",
    "    • The strength of the punches will be in the interval [0…9]\n",
    "Examples\n",
    "\n",
    "Input\n",
    "Output\n",
    "Comments\n",
    "abv>1>1>2>2asdasd\n",
    "abv>>>>dasd\n",
    "1st explosion is at index 3 and it is with strength of 1. We delete only the digit after the explosion character. The string will look like this: abv>>1>2>2asdasd\n",
    "2nd explosion is with strength one and the string transforms to this: abv>>>2>2asdasd\n",
    "3rd explosion is now with strength of 2. We delete the digit and we find another explosion. At this point the string looks like this: abv>>>>2asdasd. \n",
    "4th explosion is with strength 2. We have 1 strength left from the previous explosion, we add the strength of the current explosion to what is left and that adds up to a total strength of 3. We delete the next three characters and we receive the string abv>>>>dasd \n",
    "We do not have any more explosions and we print the result: abv>>>>dasd\n",
    "pesho>2sis>1a>2akarate>4hexmaster\n",
    "pesho>is>a>karate>master\n",
    "\n",
    "\n",
    "\n"
   ],
   "metadata": {
    "collapsed": false
   }
  },
  {
   "cell_type": "code",
   "execution_count": 29,
   "outputs": [
    {
     "name": "stdout",
     "text": [
      "abv>>>>dasd\n"
     ],
     "output_type": "stream"
    }
   ],
   "source": [
    "text = [item for item in input()]\n",
    "bomb = 0\n",
    "i = 0\n",
    "while True:\n",
    "    try:\n",
    "        text[i]\n",
    "    except Exception:\n",
    "        break\n",
    "    if bomb > 0 and text[i] != \">\":\n",
    "        text.pop(i)\n",
    "        bomb -= 1\n",
    "        i -= 1\n",
    "    elif text[i] == \">\":\n",
    "        bomb += int(text[i + 1])\n",
    "    i += 1\n",
    "print(''.join(text))\n"
   ],
   "metadata": {
    "collapsed": false,
    "pycharm": {
     "name": "#%%\n",
     "is_executing": false
    }
   }
  },
  {
   "cell_type": "markdown",
   "source": [
    "    8.  *Letters Change Numbers\n",
    "Nakov likes Math. But he also likes the English alphabet a lot. He invented a game with numbers and letters from the English alphabet. The game was simple. You get a string consisting of a number between two letters. Depending on whether the letter was in front of the number or after it you would perform different mathematical operations on the number to achieve the result.\n",
    "First you start with the letter before the number. \n",
    "    • If it's uppercase you divide the number by the letter's position in the alphabet. \n",
    "    • If it's lowercase you multiply the number with the letter's position in the alphabet. \n",
    "Then you move to the letter after the number. \n",
    "    • If it's uppercase you subtract its position from the resulted number.\n",
    "    • If it's lowercase you add its position to the resulted number.\n",
    "But the game became too easy for Nakov really quick. He decided to complicate it a bit by doing the same but with multiple strings keeping track of only the total sum of all results. Once he started to solve this with more strings and bigger numbers it became quite hard to do it only in his mind. So he kindly asks you to write a program that calculates the sum of all numbers after the operations on each number have been done.\n",
    "For example, you are given the sequence \"A12b s17G\":\n",
    "We have two strings – \"A12b\" and \"s17G\". We do the operations on each and sum them. We start with the letter before the number on the first string. A is Uppercase and its position in the alphabet is 1. So we divide the number 12 with the position 1 (12/1 = 12). Then we move to the letter after the number. b is lowercase and its position is 2. So we add 2 to the resulted number (12+2=14). Similarly for the second string s is lowercase and its position is 19 so we multiply it with the number (17*19 = 323). Then we have Uppercase G with position 7, so we subtract it from the resulted number (323 – 7 = 316). Finally, we sum the 2 results and we get 14 + 316=330.\n",
    "Input\n",
    "The input comes from the console as a single line, holding the sequence of strings. Strings are separated by one or more white spaces.\n",
    "The input data will always be valid and in the format described. There is no need to check it explicitly.\n",
    "Output\n",
    "Print at the console a single number: the total sum of all processed numbers rounded up to two digits after the decimal separator.\n",
    "Constraints\n",
    "The count of the strings will be in the range [1 … 10].\n",
    "    • The numbers between the letters will be integers in range [1 … 2 147 483 647].\n",
    "    • Time limit: 0.3 sec. Memory limit: 16 MB.\n"
   ],
   "metadata": {
    "collapsed": false
   }
  },
  {
   "cell_type": "code",
   "execution_count": null,
   "outputs": [],
   "source": [
    "all_codes = [code for code in input().split()]\n",
    "all_nums = []\n",
    "for code in all_codes:\n",
    "    first_letter = code[0]\n",
    "    last_letter = code[-1]\n",
    "    num = int(''.join([item for item in code if item.isdigit()]))\n",
    "    if first_letter.isupper():\n",
    "        num /= (ord(first_letter.lower()) - 96)\n",
    "    elif first_letter.islower():\n",
    "        num *= (ord(first_letter.lower()) - 96)\n",
    "    if last_letter.isupper():\n",
    "        num -= (ord(last_letter.lower()) - 96)\n",
    "    elif last_letter.islower():\n",
    "        num += (ord(last_letter.lower()) - 96)\n",
    "    all_nums += [num]\n",
    "print(f\"{(sum(all_nums)):.2f}\")\n"
   ],
   "metadata": {
    "collapsed": false,
    "pycharm": {
     "name": "#%%\n"
    }
   }
  },
  {
   "cell_type": "markdown",
   "source": [
    "    9.  *Rage Quit\n",
    "Every gamer knows what rage-quitting means. It’s basically when you’re just not good enough and you blame everybody else for losing a game. You press the CAPS LOCK key on the keyboard and flood the chat with gibberish to show your frustration.\n",
    "Chochko is a gamer, and a bad one at that. He asks for your help; he wants to be the most annoying kid in his team, so when he rage-quits he wants something truly spectacular. He’ll give you a series of strings followed by non-negative numbers, e.g. \"a3\"; you need to print on the console each string repeated N times; convert the letters to uppercase beforehand. In the example, you need to write back \"AAA\". \n",
    "On the output, print first a statistic of the number of unique symbols used (the casing of letters is irrelevant, meaning that 'a' and 'A' are the same); the format shoud be \"Unique symbols used {0}\". Then, print the rage message itself.\n",
    "The strings and numbers will not be separated by anything. The input will always start with a string and for each string there will be a corresponding number. The entire input will be given on a single line; Chochko is too lazy to make your job easier.\n",
    "Input\n",
    "    • The input data should be read from the console.\n",
    "    • It consists of a single line holding a series of string-number sequences.\n",
    "    • The input data will always be valid and in the format described. There is no need to check it explicitly.\n",
    "Output\n",
    "    • The output should be printed on the console. It should consist of exactly two lines.\n",
    "    • On the first line, print the number of unique symbols used in the message.\n",
    "    • On the second line, print the resulting rage message itself.\n",
    "Constraints\n",
    "    • The count of string-number pairs will be in the range [1 … 20 000].\n",
    "    • Each string will contain any character except digits. The length of each string will be in the range [1 … 20].\n",
    "    • The repeat count for each string will be an integer in the range [0 … 20].\n",
    "    • Allowed working time for your program: 0.3 seconds. Allowed memory: 64 MB.\n",
    "Examples\n",
    "\n",
    "Input\n",
    "Output\n",
    "Comments\n",
    "a3\n",
    "Unique symbols used: 1\n",
    "AAA\n",
    "We have just one string-number pair. The symbol is 'a', convert it to uppercase and repeat 3 times: AAA.\n",
    "Only one symbol is used ('A').\n",
    "aSd2&5s@1\n",
    "Unique symbols used: 5\n",
    "ASDASD&&&&&S@\n",
    "\"aSd\" is converted to \"ASD\" and repeated twice; \"&\" is repeated 5 times; \"s@\" is converted to \"S@\" and repeated once.\n",
    "5 symbols are used: 'A', 'S', 'D', '&' and '@'.\n",
    "\n"
   ],
   "metadata": {
    "collapsed": false,
    "pycharm": {
     "name": "#%% md\n"
    }
   }
  }
 ],
 "metadata": {
  "kernelspec": {
   "display_name": "Python 3",
   "language": "python",
   "name": "python3"
  },
  "language_info": {
   "codemirror_mode": {
    "name": "ipython",
    "version": 2
   },
   "file_extension": ".py",
   "mimetype": "text/x-python",
   "name": "python",
   "nbconvert_exporter": "python",
   "pygments_lexer": "ipython2",
   "version": "2.7.6"
  },
  "pycharm": {
   "stem_cell": {
    "cell_type": "raw",
    "source": [],
    "metadata": {
     "collapsed": false
    }
   }
  }
 },
 "nbformat": 4,
 "nbformat_minor": 0
}