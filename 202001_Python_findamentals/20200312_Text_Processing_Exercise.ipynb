{
 "cells": [
  {
   "cell_type": "markdown",
   "metadata": {
    "collapsed": true,
    "pycharm": {
     "name": "#%% md\n"
    }
   },
   "source": [
    "-----\n",
    "##    1. Valid Usernames\n",
    "Write a program that reads user names on a single line (joined by \", \") and prints all valid usernames. \n",
    "A valid username is:\n",
    "* Has length between 3 and 16 characters\n",
    "* Contains only letters, numbers, hyphens and underscores\n",
    "* Has no redundant symbols before, after or in between\n",
    "\n",
    "`Examples`\n",
    "\n",
    "Input|Output\n",
    "-|-\n",
    "sh, too_long_username, !lleg@l ch@rs, jeffbutt|jeffbutt\n",
    "Jeff, john45, ab, cd, peter-ivanov, @smith|Jeff<br>John45<br>peter-ivanov"
   ]
  },
  {
   "cell_type": "code",
   "execution_count": 10,
   "outputs": [
    {
     "name": "stdout",
     "text": [
      "jeffbutt\n"
     ],
     "output_type": "stream"
    }
   ],
   "source": [
    "names = input().split(\", \")\n",
    "result = [x for x in names if (3 <= len(x) <= 16) and (x.isalpha() or \"-\" in x or \"_\" in x)]\n",
    "print(\"\\n\".join(result))\n"
   ],
   "metadata": {
    "collapsed": false,
    "pycharm": {
     "name": "#%%\n",
     "is_executing": false
    }
   }
  },
  {
   "cell_type": "markdown",
   "source": [
    "-----\n",
    "##    2.  Character Multiplier\n",
    "Create a program that receives two strings on a single lines seperated by space and prints the sum of their character codes multiplied (multiply str1[0] with str2[0] and add to the total sum). Then continue with the next two characters. If one of the strings is longer than the other, add the remaining character codes to the total sum without multiplication.\n",
    "\n",
    "`Examples`\n",
    "\n",
    "Input|Output\n",
    "-|-\n",
    "George Peter|52114\n",
    "123 522|7647\n",
    "a aaaa|9700\n",
    "\n"
   ],
   "metadata": {
    "collapsed": false
   }
  },
  {
   "cell_type": "code",
   "execution_count": 23,
   "outputs": [
    {
     "name": "stdout",
     "text": [
      "7647\n"
     ],
     "output_type": "stream"
    }
   ],
   "source": [
    "str1, str2 = input().split()\n",
    "min_len = min(len(str1),len(str2))\n",
    "txt1, txt2 = str1[:min_len], str2[:min_len]\n",
    "result = 0\n",
    "for ch1, ch2 in zip(txt1, txt2):\n",
    "    result += ord(ch1) * ord(ch2)\n",
    "rest = \"\" or str1[min_len:] +  \"\" or str2[min_len:]    \n",
    "rest = [ord(x) for x in rest]\n",
    "print(result + sum(rest))"
   ],
   "metadata": {
    "collapsed": false,
    "pycharm": {
     "name": "#%%\n",
     "is_executing": false
    }
   }
  },
  {
   "cell_type": "markdown",
   "source": [
    "-----\n",
    "## 3. Extract File\n",
    "Write a program that reads the path to a file and subtracts the file name and its extension.\n",
    "\n",
    "`Examples`\n",
    "\n",
    "Input|Output\n",
    "-|-\n",
    "C:\\Internal\\training-internal\\Template.pptx|File name: Template<br>File extension: pptx\n",
    "C:\\Projects\\Data-Structures\\LinkedList.cs|File name: LinkedList<br>File extension: cs"
   ],
   "metadata": {
    "collapsed": false
   }
  },
  {
   "cell_type": "code",
   "execution_count": 28,
   "outputs": [
    {
     "name": "stdout",
     "text": [
      "File name: Template\n",
      "File extension: pptx\n"
     ],
     "output_type": "stream"
    }
   ],
   "source": [
    "path = input().split(\"\\\\\")[-1]\n",
    "file, ext = path.split(\".\")\n",
    "print(f\"File name: {file}\")\n",
    "print(f\"File extension: {ext}\")"
   ],
   "metadata": {
    "collapsed": false,
    "pycharm": {
     "name": "#%%\n",
     "is_executing": false
    }
   }
  },
  {
   "cell_type": "markdown",
   "source": [
    "-----\n",
    "##    4.  Caesar Cipher\n",
    "Write a program that returns an encrypted version of the same text. Encrypt the text by shifting each character with three positions forward. For example A would be replaced by D, B would become E, and so on. Print the encrypted text.\n",
    "\n",
    "`Examples`\n",
    "\n",
    "Input|Output\n",
    "-|-\n",
    "Programming is cool!|Surjudpplqj#lv#frro$\n",
    "One year has 365 days.|Rqh#|hdu#kdv#698#gd|v1\n"
   ],
   "metadata": {
    "collapsed": false,
    "pycharm": {
     "name": "#%% md\n"
    }
   }
  },
  {
   "cell_type": "code",
   "execution_count": null,
   "outputs": [],
   "source": [
    "print(''.join(chr(ord(letter) + 3) for letter in input()))"
   ],
   "metadata": {
    "collapsed": false,
    "pycharm": {
     "name": "#%%\n"
    }
   }
  },
  {
   "cell_type": "markdown",
   "source": [
    "------\n",
    "##    5.  Emoticon Finder\n",
    "Find all emoticons in the text. An emoticon always starts with \":\" and is followed by a symbol.\n",
    "\n",
    "The input will be provided as a single string.\n",
    "\n",
    "`Example`\n",
    "\n",
    "Input|Output\n",
    "-|-\n",
    "There are so many emoticons nowadays :P. I have many ideas :O what input to place here :)|:P<br>:O<br>:)\n",
    "\n",
    "\n"
   ],
   "metadata": {
    "collapsed": false,
    "pycharm": {
     "name": "#%% md\n"
    }
   }
  },
  {
   "cell_type": "code",
   "execution_count": null,
   "outputs": [],
   "source": [
    "text = input()\n",
    "counter = 0\n",
    "for i in text:\n",
    "    if i == \":\":\n",
    "        print(\":\" + text[counter + 1])\n",
    "    counter += 1"
   ],
   "metadata": {
    "collapsed": false,
    "pycharm": {
     "name": "#%%\n"
    }
   }
  },
  {
   "cell_type": "markdown",
   "source": [
    "------\n",
    "## 6. Replace Repeating Chars\n",
    "Write a program that reads a string from the console and replaces any sequence of the same letters with a single corresponding letter.\n",
    "\n",
    "`Examples`\n",
    "\n",
    "Input|Output\n",
    "aaaaabbbbbcdddeeeedssaa|abcdedsa\n",
    "qqqwerqwecccwd|qwerqwecwd\n",
    "\n"
   ],
   "metadata": {
    "collapsed": false
   }
  },
  {
   "cell_type": "code",
   "execution_count": null,
   "outputs": [],
   "source": [
    "past_letter = \"\"\n",
    "for i in input():\n",
    "    if len(past_letter) == 0:\n",
    "        past_letter = i\n",
    "    else:\n",
    "        if i != past_letter[-1]:\n",
    "            past_letter += i\n",
    "print(past_letter)\n",
    "\n"
   ],
   "metadata": {
    "collapsed": false,
    "pycharm": {
     "name": "#%%\n"
    }
   }
  },
  {
   "cell_type": "markdown",
   "source": [
    "\n"
   ],
   "metadata": {
    "collapsed": false
   }
  }
 ],
 "metadata": {
  "kernelspec": {
   "display_name": "Python 3",
   "language": "python",
   "name": "python3"
  },
  "language_info": {
   "codemirror_mode": {
    "name": "ipython",
    "version": 2
   },
   "file_extension": ".py",
   "mimetype": "text/x-python",
   "name": "python",
   "nbconvert_exporter": "python",
   "pygments_lexer": "ipython2",
   "version": "2.7.6"
  },
  "pycharm": {
   "stem_cell": {
    "cell_type": "raw",
    "source": [],
    "metadata": {
     "collapsed": false
    }
   }
  }
 },
 "nbformat": 4,
 "nbformat_minor": 0
}