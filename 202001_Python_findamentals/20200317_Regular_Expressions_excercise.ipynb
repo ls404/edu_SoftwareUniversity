{
 "cells": [
  {
   "cell_type": "code",
   "execution_count": null,
   "metadata": {
    "collapsed": true
   },
   "outputs": [],
   "source": []
  },
  {
   "cell_type": "markdown",
   "source": [
    "-----\n",
    "##    1. Capture the Numbers\n",
    "Write a program that finds all numbers in a sequence of strings.\n",
    "The output is all the numbers, extracted and printed on a single line – each separated by a single space.\n",
    "\n",
    "`Examples`\n",
    "\n",
    "Input|Output\n",
    "-|-\n",
    "The300<br>What is that?<br>I think it's the 3rd movie<br>Lets watch it at 22:45|300 3 22 45\n",
    "Input|Output\n",
    "123a456<br>789b987<br>654c321<br>0|123 456 789 987 654 321 0\n",
    "Input|Output\n",
    "Let's go11!!!11!<br>Okey!1!|11 11 1\n",
    " "
   ],
   "metadata": {
    "collapsed": false
   }
  },
  {
   "cell_type": "code",
   "execution_count": 15,
   "outputs": [
    {
     "name": "stdout",
     "text": [
      "45 77\n"
     ],
     "output_type": "stream"
    }
   ],
   "source": [
    "import re\n",
    "txt = input()\n",
    "result = []\n",
    "while txt:\n",
    "    result = result + (re.findall(\"\\d+\", txt))\n",
    "    txt = input()\n",
    "print(\" \".join(result))\n"
   ],
   "metadata": {
    "collapsed": false,
    "pycharm": {
     "name": "#%%\n",
     "is_executing": false
    }
   }
  },
  {
   "cell_type": "markdown",
   "source": [],
   "metadata": {
    "collapsed": false
   }
  },
  {
   "cell_type": "markdown",
   "source": [
    "-----\n",
    "##    2. Find Variable Names in Sentences\n",
    "Write a program that finds all variable names in a given string. A variable name starts with an underscore (\"_\") and contains only Capital and Non-Capital English Alphabet letters and digits. Extract only their names, without the underscore. Try to do this only with regular expressions.\n",
    "\n",
    "The output consists of all variable names, extracted and printed on a single line, each separated by a comma.\n",
    "\n",
    "Input|Output\n",
    "-|-\n",
    "The _id and _age variables are both integers.|id,age\n",
    "Calculate the _area of the _perfectRectangle object.|area,perfectRectangle\n",
    "___invalidVariable _evenMoreInvalidVariable_ _validVariable|validVariable\n",
    "\n"
   ],
   "metadata": {
    "collapsed": false
   }
  },
  {
   "cell_type": "code",
   "execution_count": 18,
   "outputs": [
    {
     "name": "stdout",
     "text": [
      "area,perfectRectangle\n"
     ],
     "output_type": "stream"
    }
   ],
   "source": [
    "import re\n",
    "pattern = r\"\\b_[a-zA-Z0-9]+\\b\"\n",
    "result = []\n",
    "txt = input()\n",
    "result = re.findall(pattern, txt)\n",
    "print(\",\".join([i[1:] for i in result]))\n",
    "\n"
   ],
   "metadata": {
    "collapsed": false,
    "pycharm": {
     "name": "#%%\n",
     "is_executing": false
    }
   }
  },
  {
   "cell_type": "markdown",
   "source": [
    "##    3. Find Occurrences of Word in Sentence\n",
    "Write a program that finds, how many times a given word, is used in a given sentence. Note that letter case does not matter – it is case-insensitive.\n",
    "\n",
    "The output is a single number indicating the amount of times the sentence contains the word.\n",
    "\n",
    "`Examples`\n",
    "\n",
    "Input|Output\n",
    "-|-\n",
    "The waterfall was so high, that the child couldn't see its peak.<br>the|2\n",
    "\n",
    "\n",
    "Input|Output\n",
    "-|-\n",
    "How do you plan on achieving that? How? How can you even think of that?<br>how|3\n",
    "\n",
    "Input|Output\n",
    "-|-\n",
    "There was one. Therefore I bought it. I wouldn't buy it otherwise.<br>there|1\n"
   ],
   "metadata": {
    "collapsed": false
   }
  },
  {
   "cell_type": "code",
   "execution_count": 53,
   "outputs": [
    {
     "name": "stdout",
     "text": [
      "['the']\n",
      "1\n"
     ],
     "output_type": "stream"
    }
   ],
   "source": [
    "import re\n",
    "\n",
    "text = input()\n",
    "word = input()\n",
    "pattern = rf\"\\b{word}\\b\"\n",
    "words = re.findall(pattern, text, re.IGNORECASE)\n",
    "print(len(words))"
   ],
   "metadata": {
    "collapsed": false,
    "pycharm": {
     "name": "#%%\n",
     "is_executing": false
    }
   }
  },
  {
   "cell_type": "code",
   "execution_count": 41,
   "outputs": [
    {
     "name": "stdout",
     "text": [
      "['the', 'waterfall', 'was', 'so', 'high', 'that', 'the', 'child', \"couldn't\", 'see', 'its', 'peak']\n",
      "2\n"
     ],
     "output_type": "stream"
    }
   ],
   "source": [
    "from collections import Counter\n",
    "txt = input().lower()\n",
    "txt = ''.join([x for x in txt if x.isalpha() or x == \" \" or x == \"'\"]).split()\n",
    "print(txt)\n",
    "word = input().lower()\n",
    "\n",
    "c = Counter(txt)\n",
    "print(c[word])\n"
   ],
   "metadata": {
    "collapsed": false,
    "pycharm": {
     "name": "#%%\n",
     "is_executing": false
    }
   }
  },
  {
   "cell_type": "code",
   "execution_count": 47,
   "outputs": [
    {
     "name": "stdout",
     "text": [
      "1\n"
     ],
     "output_type": "stream"
    }
   ],
   "source": [
    "txt = input().lower()\n",
    "txt = ''.join([x for x in txt if x.isalpha() or x == \" \" or x == \"'\"]).split()\n",
    "word = input().lower()\n",
    "print(txt.count(word))\n"
   ],
   "metadata": {
    "collapsed": false,
    "pycharm": {
     "name": "#%%\n",
     "is_executing": false
    }
   }
  },
  {
   "cell_type": "markdown",
   "source": [
    "-----\n",
    "##    4. Extract Emails\n",
    "Write a program to extract all email addresses from a given text. The text comes at the only input line. Print the emails on the console, each at a separate line. Emails are considered to be in format <user>@<host>, where: \n",
    "* <user> is a sequence of letters and digits, where '.', '-' and '_' can appear between them.\n",
    "    * Examples of valid users: \"stephan\", \"mike03\", \"s.johnson\", \"st_steward\", \"softuni-bulgaria\", \"12345\".\n",
    "    * Examples of invalid users: ''--123\", \".....\", \"nakov_-\", \"_steve\", \".info\". \n",
    "* <host> is a sequence of at least two words, separated by dots '.'. Each word is sequence of letters and can have hyphens '-' between the letters.\n",
    "     * Examples of hosts: \"softuni.bg\", \"software-university.com\", \"intoprogramming.info\", \"mail.softuni.org\". \n",
    "     * Examples of invalid hosts: \"helloworld\", \".unknown.soft.\", \"invalid-host-\", \"invalid-\". \n",
    "* Examples of valid emails: info@softuni-bulgaria.org, kiki@hotmail.co.uk, no-reply@github.com, s.peterson@mail.uu.net, info-bg@software-university.software.academy. \n",
    "* Examples of invalid emails: --123@gmail.com, …@mail.bg, .info@info.info, _steve@yahoo.cn, mike@helloworld, mike@.unknown.soft., s.johnson@invalid-.\n",
    "\n",
    "`Examples`\n",
    "\n",
    "Input|Output\n",
    "-|-\n",
    "Please contact us at: support@github.com.|support@github.com\n",
    "Just send email to s.miller@mit.edu and j.hopking@york.ac.uk for more information.|s.miller@mit.edu<br>j.hopking@york.ac.uk\n",
    "Many users @ SoftUni confuse email addresses. We @ Softuni.BG provide high-quality training @ home or @ class. –- steve.parker@softuni.de.|steve.parker@softuni.de\n"
   ],
   "metadata": {
    "collapsed": false
   }
  },
  {
   "cell_type": "code",
   "execution_count": 54,
   "outputs": [
    {
     "name": "stdout",
     "text": [
      "[]\n"
     ],
     "output_type": "stream"
    }
   ],
   "source": [
    "import re\n",
    "\n",
    "text = input()\n",
    "user_pattern = r\"( |^)[a-z0-9]+([\\.\\-_][a-z0-9]+)*\"\n",
    "host_pattern = r\"[a-z]+(-[a-z]+)*(\\.[a-z]+(-[a-z]+)*)+\"\n",
    "pattern = rf\"{user_pattern}@{host_pattern}\"\n",
    "\n",
    "matches = re.finditer(pattern, text)\n",
    "\n",
    "for match in matches:\n",
    "    mail = match[0].strip()\n",
    "    print(mail)\n"
   ],
   "metadata": {
    "collapsed": false,
    "pycharm": {
     "name": "#%%\n",
     "is_executing": false
    }
   }
  },
  {
   "cell_type": "markdown",
   "source": [
    "-----\n",
    "##    5. Furniture\n",
    "Write a program to calculate the total cost of different types of furniture. You will be given some lines of input until you receive the line \"Purchase\". For the line to be valid it should be in the following format:\n",
    "\n",
    "**\">>{furniture name}<<{price}!{quantity}\"**\n",
    "\n",
    "The price can be floating point number or whole number. Store the names of the furniture and the total price. At the end print the each bought furniture on separate line in the format:\n",
    "\n",
    "**\"Bought furniture:**\n",
    "\n",
    "**{1st name}**\n",
    "\n",
    "**{2nd name}**\n",
    "**…\"**\n",
    "\n",
    "And on the last line print the following: \"Total money spend: {spend money}\" formatted to the second decimal point.\n",
    "Examples\n",
    "\n",
    "Input|Output|Comment\n",
    "-|-|-\n",
    ">>Sofa<<312.23!3<br>>>TV<<300!5<br>>Invalid<<!5<br>Purchase|Bought furniture:<br>Sofa<br>TV<br>Total money spend: 2436.69|Only the Sofa and the TV are valid, for each of them we multiply the price by the quantity and print the result\n",
    "\n",
    "\n"
   ],
   "metadata": {
    "collapsed": false
   }
  },
  {
   "cell_type": "code",
   "execution_count": 56,
   "outputs": [
    {
     "name": "stdout",
     "text": [
      "Bought furniture:\n",
      "Sofa\n",
      "TV\n",
      "Total money spend: 2436.69\n"
     ],
     "output_type": "stream"
    }
   ],
   "source": [
    "import re\n",
    "\n",
    "pattern = r\">>(?P<item>[a-zA-Z]+)<<(?P<price>\\d+(\\.\\d+)?)!(?P<count>\\d+)\"\n",
    "\n",
    "bought_items = []\n",
    "total = 0\n",
    "while True:\n",
    "    current_item = input()\n",
    "    if current_item == \"Purchase\":\n",
    "        break\n",
    "\n",
    "    match = re.finditer(pattern, current_item)\n",
    "    for element in match:\n",
    "        bought_items.append(element.group('item'))\n",
    "        total += float(element.group('price')) * int(element.group('count'))\n",
    "\n",
    "print(\"Bought furniture:\")\n",
    "for item in bought_items:\n",
    "    print(item)\n",
    "\n",
    "print(f\"Total money spend: {total:.2f}\")"
   ],
   "metadata": {
    "collapsed": false,
    "pycharm": {
     "name": "#%%\n",
     "is_executing": false
    }
   }
  },
  {
   "cell_type": "markdown",
   "source": [
    "-----\n",
    "##    6. *Extract the Links\n",
    "Write a program that extracts links from a given text. The text will come in the form of strings, each representing a sentence. You need to extract only the valid links from it. Example:\n",
    "\n",
    "\"www.internet.com\"\n",
    "\n",
    "The Sub-Domain must always be \"www\". The Domain name can consist of English alphabet letters (uppercase and lowercase), digits and dashes (\"–\"). The Domain extension consists of one or more domain blocks, a domain block consists of a dot followed by one or more lowercase English alphabet letters, a Domain extension must have at least one domain block in order to be valid. The Sub-Domain and Domain name must be separated by a single dot. Any link that does NOT follow the specified above rules should be treated as invalid.\n",
    "\n",
    "Example incorrect links:  \n",
    "* \"ww.justASite.bg\"\n",
    "* \"lel.awesome.com\"\n",
    "* \"www.weird_site.hit.bg\"\n",
    "* \"www.no-symb#^ols-allow%ed.com\"\n",
    "* \"www.mark.12\"\n",
    "* \"www.web-site.\"\n",
    "* \"www.example-site._*^#\"\n",
    "\n",
    "Example correct links:  \n",
    "* \"Some textwww.softuni.bg\"\n",
    "* \"Just a link in a www.sea-of-text.bg-swimming around\"\n",
    "* \"Instruments www.Instruments.rom.com.trombone2000 Instrument here\"\n",
    "* \"All your ice cream flavors-www.scream.for.ice.cream(We  also have squirrels)\"\n",
    " \n",
    "The output is all valid links you've found, printed – each on a new line.\n",
    "\n",
    "`Examples`\n",
    "\n",
    "Input|Output\n",
    "-|-\n",
    "Join WebStars now for free, at www.web-stars.com<br>You can also support our partners:<br>Internet - www.internet.com<br>WebSpiders - www.webspiders101.com<br>Sentinel - www.sentinel.-ko|www.web-stars.com<br>www.internet.com<br>www.webspiders101.com<br>\n",
    "\n",
    "\n",
    "\n",
    "\n",
    "Input|Output\n",
    "-|-\n",
    "Need information about cheap hotels in London?<br>You can check us at www.london-hotels.co.uk!<br>We provide the best services in London.<br>Here are some reviews in some blogs:<br>London Hotels are awesome! - www.indigo.bloggers.com<br>I am very satisfied with their services - ww.ivan.bg<br>Best Hotel Services! - www.rebel21.sedecrem.moc|www.london-hotels.co.uk<br>www.indigo.bloggers.com<br>www.rebel21.sedecrem.moc<br>\n",
    "\n"
   ],
   "metadata": {
    "collapsed": false
   }
  },
  {
   "cell_type": "code",
   "execution_count": 67,
   "outputs": [],
   "source": [
    "import re\n",
    "\n",
    "pattern = r\"(www)([\\.a-zA-Z0-9-]+)+([\\.]{1}[a-z]+)+\"\n",
    "result = []\n",
    "text = input()\n",
    "while text:\n",
    "    match = re.findall(pattern, text)\n",
    "    result += match\n",
    "    text = input()\n",
    "for item in result:\n",
    "    print(''.join(item))"
   ],
   "metadata": {
    "collapsed": false,
    "pycharm": {
     "name": "#%%\n",
     "is_executing": false
    }
   }
  }
 ],
 "metadata": {
  "kernelspec": {
   "display_name": "Python 3",
   "language": "python",
   "name": "python3"
  },
  "language_info": {
   "codemirror_mode": {
    "name": "ipython",
    "version": 2
   },
   "file_extension": ".py",
   "mimetype": "text/x-python",
   "name": "python",
   "nbconvert_exporter": "python",
   "pygments_lexer": "ipython2",
   "version": "2.7.6"
  },
  "pycharm": {
   "stem_cell": {
    "cell_type": "raw",
    "source": [],
    "metadata": {
     "collapsed": false
    }
   }
  }
 },
 "nbformat": 4,
 "nbformat_minor": 0
}