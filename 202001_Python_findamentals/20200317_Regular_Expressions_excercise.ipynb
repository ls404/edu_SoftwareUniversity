{
 "cells": [
  {
   "cell_type": "code",
   "execution_count": null,
   "metadata": {
    "collapsed": true
   },
   "outputs": [],
   "source": []
  },
  {
   "cell_type": "markdown",
   "source": [
    "-----\n",
    "##    1. Capture the Numbers\n",
    "Write a program that finds all numbers in a sequence of strings.\n",
    "The output is all the numbers, extracted and printed on a single line – each separated by a single space.\n",
    "\n",
    "`Examples`\n",
    "\n",
    "Input|Output\n",
    "-|-\n",
    "The300<br>What is that?<br>I think it's the 3rd movie<br>Lets watch it at 22:45|300 3 22 45\n",
    "Input|Output\n",
    "123a456<br>789b987<br>654c321<br>0|123 456 789 987 654 321 0\n",
    "Input|Output\n",
    "Let's go11!!!11!<br>Okey!1!|11 11 1\n",
    " "
   ],
   "metadata": {
    "collapsed": false
   }
  },
  {
   "cell_type": "code",
   "execution_count": 15,
   "outputs": [
    {
     "name": "stdout",
     "text": [
      "45 77\n"
     ],
     "output_type": "stream"
    }
   ],
   "source": [
    "import re\n",
    "txt = input()\n",
    "result = []\n",
    "while txt:\n",
    "    result = result + (re.findall(\"\\d+\", txt))\n",
    "    txt = input()\n",
    "print(\" \".join(result))\n"
   ],
   "metadata": {
    "collapsed": false,
    "pycharm": {
     "name": "#%%\n",
     "is_executing": false
    }
   }
  },
  {
   "cell_type": "markdown",
   "source": [],
   "metadata": {
    "collapsed": false
   }
  },
  {
   "cell_type": "markdown",
   "source": [
    "-----\n",
    "##    2. Find Variable Names in Sentences\n",
    "Write a program that finds all variable names in a given string. A variable name starts with an underscore (\"_\") and contains only Capital and Non-Capital English Alphabet letters and digits. Extract only their names, without the underscore. Try to do this only with regular expressions.\n",
    "\n",
    "The output consists of all variable names, extracted and printed on a single line, each separated by a comma.\n",
    "\n",
    "Input|Output\n",
    "-|-\n",
    "The _id and _age variables are both integers.|id,age\n",
    "Calculate the _area of the _perfectRectangle object.|area,perfectRectangle\n",
    "___invalidVariable _evenMoreInvalidVariable_ _validVariable|validVariable\n",
    "\n"
   ],
   "metadata": {
    "collapsed": false
   }
  },
  {
   "cell_type": "code",
   "execution_count": 18,
   "outputs": [
    {
     "name": "stdout",
     "text": [
      "area,perfectRectangle\n"
     ],
     "output_type": "stream"
    }
   ],
   "source": [
    "import re\n",
    "pattern = r\"\\b_[a-zA-Z0-9]+\\b\"\n",
    "result = []\n",
    "txt = input()\n",
    "result = re.findall(pattern, txt)\n",
    "print(\",\".join([i[1:] for i in result]))\n",
    "\n"
   ],
   "metadata": {
    "collapsed": false,
    "pycharm": {
     "name": "#%%\n",
     "is_executing": false
    }
   }
  }
 ],
 "metadata": {
  "kernelspec": {
   "display_name": "Python 3",
   "language": "python",
   "name": "python3"
  },
  "language_info": {
   "codemirror_mode": {
    "name": "ipython",
    "version": 2
   },
   "file_extension": ".py",
   "mimetype": "text/x-python",
   "name": "python",
   "nbconvert_exporter": "python",
   "pygments_lexer": "ipython2",
   "version": "2.7.6"
  },
  "pycharm": {
   "stem_cell": {
    "cell_type": "raw",
    "source": [],
    "metadata": {
     "collapsed": false
    }
   }
  }
 },
 "nbformat": 4,
 "nbformat_minor": 0
}