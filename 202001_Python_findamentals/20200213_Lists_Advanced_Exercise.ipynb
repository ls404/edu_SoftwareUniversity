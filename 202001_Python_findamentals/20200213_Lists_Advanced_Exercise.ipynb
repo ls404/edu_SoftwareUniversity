{
 "cells": [
  {
   "cell_type": "markdown",
   "source": [
    "# Excercise: Lists Advanced"
   ],
   "metadata": {
    "collapsed": false
   }
  },
  {
   "cell_type": "markdown",
   "source": [
    "-----\n",
    "##1. Which Are In?\n",
    "\n",
    "Given two lists of strings print a new list of the strings that contains words from the first list which are substrings of any of the strings in the second list (only unique values)\n",
    "\n",
    "`Input`\n",
    "\n",
    "There will be 2 lines of input: the two lists separated by \", \"\n",
    "\n",
    "`Output`\n",
    "\n",
    "Print the resulting list on the console\n",
    "\n",
    "`Example`\n",
    "\n",
    "Input|Output\n",
    "-------|-------\n",
    "arp, live, strong - lively, alive, harp, sharp, armstrong|['arp', 'live', 'strong']\n",
    "tarp mice bull - lively alive harp sharp armstrong|[]"
   ],
   "metadata": {
    "collapsed": false
   }
  },
  {
   "cell_type": "code",
   "execution_count": 2,
   "outputs": [
    {
     "name": "stdout",
     "text": [
      "{'arp', 'live', 'strong'}\n"
     ],
     "output_type": "stream"
    }
   ],
   "source": [
    "list_data = input().split(', ')\n",
    "is_it_here = input()\n",
    "result = set()\n",
    "for i in list_data:\n",
    "    if i in is_it_here:\n",
    "        result.add(i)\n",
    "print([x for x in list_data if x in result])\n",
    "\n"
   ],
   "metadata": {
    "collapsed": false,
    "pycharm": {
     "name": "#%%\n",
     "is_executing": false
    }
   }
  },
  {
   "cell_type": "markdown",
   "source": [
    "---------\n",
    "##2. Big Numbers Lover\n",
    "\n",
    "> You really like big numbers, so you always find a way to form one from numbers given to you\n",
    "\n",
    "You will receive a single line containing numbers separated by a single space. Form the biggest number possible from them\n",
    "\n",
    "`Example`\n",
    "\n",
    "Input|Output|Comment\n",
    "-|-|-\n",
    "3 30 34 5 9|9534303|The numbers sorted are 9 5 34 30 3\n",
    "1 2 3|321\n"
   ],
   "metadata": {
    "collapsed": false
   }
  },
  {
   "cell_type": "code",
   "execution_count": 5,
   "outputs": [
    {
     "name": "stdout",
     "text": [
      "9534303\n"
     ],
     "output_type": "stream"
    }
   ],
   "source": [
    "num = input().split()\n",
    "sorted_num = sorted(num,reverse=True)\n",
    "print(''.join(sorted_num))"
   ],
   "metadata": {
    "collapsed": false,
    "pycharm": {
     "name": "#%%\n",
     "is_executing": false
    }
   }
  },
  {
   "cell_type": "markdown",
   "source": [
    "\n",
    "-----\n",
    "## 3. Next Version\n",
    "> You're fed up about changing the version of your software manually. Instead, you will create a little script that will make it for you.\n",
    "\n",
    "You will be given a **version** as in this example: **\"1.3.4\"**. You have to find the **next version** and **print it** (\"**1.3.5\"** from the example). The only **rule** is that the numbers cannot be **greater than 9**. If that happens, set the **current number to 0** and **increase the number before it**. For more clarification, see the examples. **_Note: there will be no case where the first number will get greater than 9_**\n",
    "\n",
    "`Example`\n",
    "\n",
    "Input|Output\n",
    "-|-\n",
    "1.2.3|1.2.4\n",
    "1.3.9|1.4.0\n",
    "3.9.9|4.0.0\n"
   ],
   "metadata": {
    "collapsed": false
   }
  },
  {
   "cell_type": "code",
   "execution_count": 5,
   "outputs": [
    {
     "name": "stdout",
     "text": [
      "4.0.0\n"
     ],
     "output_type": "stream"
    }
   ],
   "source": [
    "str_num = input().split('.')\n",
    "num = int(''.join(str_num)) + 1\n",
    "print('.'.join(str(num)))"
   ],
   "metadata": {
    "collapsed": false,
    "pycharm": {
     "name": "#%%\n",
     "is_executing": false
    }
   }
  },
  {
   "cell_type": "markdown",
   "source": [
    "------\n",
    "##4. Office Chairs\n",
    "> So you've found a meeting room - phew! You arrive there ready to present, and find that someone has taken one or more of the chairs!! You need to find some quick.... check all the other meeting rooms to see if all of the chairs are in use.\n",
    "\n",
    "You will be given a number n representing how many rooms there are. On the next n lines for each room you will get how many chairs there are and how many of them will be taken. The chairs will be represented by \"X\"s, then there will be a space \" \" and a number representing the taken places. **_Example:_** \"XXXXX 4\" (5 chairs and 1 of them is left free). Keep track of the free chairs, you will need them later. However if you get to a room where there are more people than chairs, print the following message:\n",
    "\n",
    "`\"{needed_chairs_in_room} more chairs needed in room {number_of_room}\". If there is enough chairs in each room print: \"Game On, {total_free_chairs} free chairs left\"`\n",
    "\n",
    "`Example`\n",
    "\n",
    "\n",
    "| Input                                                     | Output                                                                     |\n",
    "|-----------------------------------------------------------|----------------------------------------------------------------------------|\n",
    "| 4<br>XXXX 4<br>XX 1<br>XXXXXX 3<br>XXX 3      | Game On, 4 free chairs left                                                |\n",
    "| 3<br>XXXXXXX 5<br>XXXX 5<br>XXXXXX 8 | 1 more chairs needed in room 2<br>2 more chairs needed in room 3 |\n",
    "                                                                                                                                "
   ],
   "metadata": {
    "collapsed": false
   }
  },
  {
   "cell_type": "code",
   "execution_count": null,
   "outputs": [],
   "source": [
    "rooms = int(input())\n",
    "game_on = True\n",
    "chairs_left = 0\n",
    "for i in range(1,rooms+1):\n",
    "    cmd = input().split()\n",
    "    chairs = len(cmd[0])\n",
    "    chairs_to_take = int(cmd[1])\n",
    "    if chairs >=chairs_to_take:\n",
    "        chairs_left += chairs - chairs_to_take\n",
    "    else:\n",
    "        print(f\"{chairs_to_take - chairs} more chairs needed in room {i}\")\n",
    "        game_on = False\n",
    "if game_on:\n",
    "    print(f\"Game On, {chairs_left} free chairs left\")\n",
    "\n",
    "\n"
   ],
   "metadata": {
    "collapsed": false,
    "pycharm": {
     "name": "#%%\n"
    }
   }
  },
  {
   "cell_type": "markdown",
   "source": [
    "## 5. Electron Distribution\n",
    "> You are a mad scientist and you decided to play with electron distribution among atom's shells. You know that basic idea of electron distribution is that electrons should fill a shell until it's holding the maximum number of electrons.\n",
    "\n",
    "The **rules** for electron distribution are as follows:\n",
    "* Maximum number of electrons in a shell is distributed with a rule of **2n^2** (n being **position** of a **shell** a.k.a. the list **index + 1**).\n",
    "* For example, maximum number of electrons in **3rd** shield is **2*3^2 = 18**.\n",
    "* Electrons should fill the **lowest level** shell **first**.\n",
    "* If the electrons have **completely filled** the **lowest level** shell, the other **unoccupied electrons** will fill the **higher level** shell and so on.\n",
    "\n"
   ],
   "metadata": {
    "collapsed": false
   }
  }
 ],
 "metadata": {
  "kernelspec": {
   "display_name": "Python 3",
   "language": "python",
   "name": "python3"
  },
  "language_info": {
   "codemirror_mode": {
    "name": "ipython",
    "version": 2
   },
   "file_extension": ".py",
   "mimetype": "text/x-python",
   "name": "python",
   "nbconvert_exporter": "python",
   "pygments_lexer": "ipython2",
   "version": "2.7.6"
  },
  "pycharm": {
   "stem_cell": {
    "cell_type": "raw",
    "source": [],
    "metadata": {
     "collapsed": false
    }
   }
  }
 },
 "nbformat": 4,
 "nbformat_minor": 0
}