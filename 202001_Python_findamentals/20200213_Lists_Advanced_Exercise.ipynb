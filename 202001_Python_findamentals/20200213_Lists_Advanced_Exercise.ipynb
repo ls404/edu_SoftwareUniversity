{
 "cells": [
  {
   "cell_type": "markdown",
   "source": [
    "# Excercise: Lists Advanced"
   ],
   "metadata": {
    "collapsed": false
   }
  },
  {
   "cell_type": "markdown",
   "source": [
    "-----\n",
    "##1. Which Are In?\n",
    "\n",
    "Given two lists of strings print a new list of the strings that contains words from the first list which are substrings of any of the strings in the second list (only unique values)\n",
    "\n",
    "`Input`\n",
    "\n",
    "There will be 2 lines of input: the two lists separated by \", \"\n",
    "\n",
    "`Output`\n",
    "\n",
    "Print the resulting list on the console\n",
    "\n",
    "`Example`\n",
    "\n",
    "Input|Output\n",
    "-------|-------\n",
    "arp, live, strong - lively, alive, harp, sharp, armstrong|['arp', 'live', 'strong']\n",
    "tarp mice bull - lively alive harp sharp armstrong|[]"
   ],
   "metadata": {
    "collapsed": false
   }
  },
  {
   "cell_type": "code",
   "execution_count": 2,
   "outputs": [
    {
     "name": "stdout",
     "text": [
      "{'arp', 'live', 'strong'}\n"
     ],
     "output_type": "stream"
    }
   ],
   "source": [
    "list_data = input().split(', ')\n",
    "is_it_here = input()\n",
    "result = set()\n",
    "for i in list_data:\n",
    "    if i in is_it_here:\n",
    "        result.add(i)\n",
    "print([x for x in list_data if x in result])\n",
    "\n"
   ],
   "metadata": {
    "collapsed": false,
    "pycharm": {
     "name": "#%%\n",
     "is_executing": false
    }
   }
  },
  {
   "cell_type": "markdown",
   "source": [
    "---------\n",
    "##2. Big Numbers Lover\n",
    "\n",
    "> You really like big numbers, so you always find a way to form one from numbers given to you\n",
    "\n",
    "You will receive a single line containing numbers separated by a single space. Form the biggest number possible from them\n",
    "\n",
    "`Example`\n",
    "\n",
    "Input|Output|Comment\n",
    "-|-|-\n",
    "3 30 34 5 9|9534303|The numbers sorted are 9 5 34 30 3\n",
    "1 2 3|321\n"
   ],
   "metadata": {
    "collapsed": false
   }
  },
  {
   "cell_type": "code",
   "execution_count": 5,
   "outputs": [
    {
     "name": "stdout",
     "text": [
      "9534303\n"
     ],
     "output_type": "stream"
    }
   ],
   "source": [
    "num = input().split()\n",
    "sorted_num = sorted(num,reverse=True)\n",
    "print(''.join(sorted_num))"
   ],
   "metadata": {
    "collapsed": false,
    "pycharm": {
     "name": "#%%\n",
     "is_executing": false
    }
   }
  },
  {
   "cell_type": "markdown",
   "source": [
    "\n",
    "-----\n",
    "## 3. Next Version\n",
    "> You're fed up about changing the version of your software manually. Instead, you will create a little script that will make it for you.\n",
    "\n",
    "You will be given a **version** as in this example: **\"1.3.4\"**. You have to find the **next version** and **print it** (\"**1.3.5\"** from the example). The only **rule** is that the numbers cannot be **greater than 9**. If that happens, set the **current number to 0** and **increase the number before it**. For more clarification, see the examples. **_Note: there will be no case where the first number will get greater than 9_**\n",
    "\n",
    "`Example`\n",
    "\n",
    "Input|Output\n",
    "-|-\n",
    "1.2.3|1.2.4\n",
    "1.3.9|1.4.0\n",
    "3.9.9|4.0.0\n"
   ],
   "metadata": {
    "collapsed": false
   }
  },
  {
   "cell_type": "code",
   "execution_count": 5,
   "outputs": [
    {
     "name": "stdout",
     "text": [
      "4.0.0\n"
     ],
     "output_type": "stream"
    }
   ],
   "source": [
    "str_num = input().split('.')\n",
    "num = int(''.join(str_num)) + 1\n",
    "print('.'.join(str(num)))"
   ],
   "metadata": {
    "collapsed": false,
    "pycharm": {
     "name": "#%%\n",
     "is_executing": false
    }
   }
  },
  {
   "cell_type": "markdown",
   "source": [
    "------\n",
    "##4. Office Chairs\n",
    "> So you've found a meeting room - phew! You arrive there ready to present, and find that someone has taken one or more of the chairs!! You need to find some quick.... check all the other meeting rooms to see if all of the chairs are in use.\n",
    "\n",
    "You will be given a number n representing how many rooms there are. On the next n lines for each room you will get how many chairs there are and how many of them will be taken. The chairs will be represented by \"X\"s, then there will be a space \" \" and a number representing the taken places. **_Example:_** \"XXXXX 4\" (5 chairs and 1 of them is left free). Keep track of the free chairs, you will need them later. However if you get to a room where there are more people than chairs, print the following message:\n",
    "\n",
    "`\"{needed_chairs_in_room} more chairs needed in room {number_of_room}\". If there is enough chairs in each room print: \"Game On, {total_free_chairs} free chairs left\"`\n",
    "\n",
    "`Example`\n",
    "\n",
    "\n",
    "| Input                                                     | Output                                                                     |\n",
    "|-----------------------------------------------------------|----------------------------------------------------------------------------|\n",
    "| 4<br>XXXX 4<br>XX 1<br>XXXXXX 3<br>XXX 3      | Game On, 4 free chairs left                                                |\n",
    "| 3<br>XXXXXXX 5<br>XXXX 5<br>XXXXXX 8 | 1 more chairs needed in room 2<br>2 more chairs needed in room 3 |\n",
    "                                                                                                                                "
   ],
   "metadata": {
    "collapsed": false
   }
  },
  {
   "cell_type": "code",
   "execution_count": null,
   "outputs": [],
   "source": [
    "rooms = int(input())\n",
    "game_on = True\n",
    "chairs_left = 0\n",
    "for i in range(1,rooms+1):\n",
    "    cmd = input().split()\n",
    "    chairs = len(cmd[0])\n",
    "    chairs_to_take = int(cmd[1])\n",
    "    if chairs >=chairs_to_take:\n",
    "        chairs_left += chairs - chairs_to_take\n",
    "    else:\n",
    "        print(f\"{chairs_to_take - chairs} more chairs needed in room {i}\")\n",
    "        game_on = False\n",
    "if game_on:\n",
    "    print(f\"Game On, {chairs_left} free chairs left\")\n",
    "\n",
    "\n"
   ],
   "metadata": {
    "collapsed": false,
    "pycharm": {
     "name": "#%%\n"
    }
   }
  },
  {
   "cell_type": "markdown",
   "source": [
    "## 5. Electron Distribution\n",
    "> You are a mad scientist and you decided to play with electron distribution among atom's shells. You know that basic idea of electron distribution is that electrons should fill a shell until it's holding the maximum number of electrons.\n",
    "\n",
    "The **rules** for electron distribution are as follows:\n",
    "* Maximum number of electrons in a shell is distributed with a rule of **2n^2** (n being **position** of a **shell** a.k.a. the list **index + 1**).\n",
    "* For example, maximum number of electrons in **3rd** shield is **2*3^2 = 18**.\n",
    "* Electrons should fill the **lowest level** shell **first**.\n",
    "* If the electrons have **completely filled** the **lowest level** shell, the other **unoccupied electrons** will fill the **higher level** shell and so on.\n",
    "\n",
    "`Example`\n",
    "\n",
    "Input|Output\n",
    "-|-\n",
    "10|[2, 8]\n",
    "44|[2, 8, 18, 16]\n",
    "\n"
   ],
   "metadata": {
    "collapsed": false
   }
  },
  {
   "cell_type": "code",
   "execution_count": 8,
   "outputs": [
    {
     "name": "stdout",
     "text": [
      "[2, 8, 18, 16]\n"
     ],
     "output_type": "stream"
    }
   ],
   "source": [
    "num = int(input())\n",
    "result = []\n",
    "counter = 1\n",
    "while num > 0:\n",
    "    add_num = 2 * counter ** 2\n",
    "    if add_num > num:\n",
    "        add_num = num\n",
    "    result.append(add_num)\n",
    "    num -= add_num\n",
    "    counter += 1\n",
    "print(result)\n"
   ],
   "metadata": {
    "collapsed": false,
    "pycharm": {
     "name": "#%%\n",
     "is_executing": false
    }
   }
  },
  {
   "cell_type": "markdown",
   "source": [
    "## 6. Group of 10's\n",
    "\n",
    "Write a program that receives a **list of numbers** (string containing **integers** separated by \", \") and **prints lists** with the numbers them into lists of **10's**. \n",
    "\n",
    "`Examples`\n",
    "* The numbers 2 8 4 3 fall into the group under 10\n",
    "* The numbers 13 19 14 15 fall into the group under 20\n",
    "For more details, see the examples below:\n",
    "\n",
    "Input|Output\n",
    "-|-\n",
    "8, 12, 38, 3, 17, 19, 25, 35, 50| Group of 10's: [8, 3]<br>Group of 20's: [12, 17, 19]<br>Group of 30's: [25]<br>Group of 40's: [38, 35]<br>Group of 50's: [50]\n",
    "1, 3, 3, 4, 34, 35, 25, 21, 33|Group of 10's: [1, 3, 3, 4]<br>Group of 20's: []<br>Group of 30's: [25, 21]<br>Group of 40's: [34, 35, 33]\n",
    "\n",
    "`Hints`\n",
    "* **Keep track of the group** using a variable to store it's **max value**\n",
    "* Create a **loop** and **filter the elements** that are less than the group boundary and **remove** them from the **original list**\n",
    "* **Increase** the **boundary by 10**\n",
    "* **Loop until** the given **list is empty**"
   ],
   "metadata": {
    "collapsed": false
   }
  },
  {
   "cell_type": "code",
   "execution_count": 18,
   "outputs": [
    {
     "name": "stdout",
     "text": [
      "Group of 10's: [1, 3, 3, 4]\n",
      "Group of 20's: []\n",
      "Group of 30's: [25, 21]\n",
      "Group of 40's: [34, 35, 33]\n"
     ],
     "output_type": "stream"
    }
   ],
   "source": [
    "lst = [int(x) for x in input().split(\", \")]\n",
    "max_dozen = (max(lst) - 1)//10+1\n",
    "for i in range(1,max_dozen+1):\n",
    "    return_lst = [x for x in lst if i * 10 - 10 < x < i * 10 + 1]\n",
    "    print(f\"Group of {i}0's: {return_lst}\")\n"
   ],
   "metadata": {
    "collapsed": false,
    "pycharm": {
     "name": "#%%\n",
     "is_executing": false
    }
   }
  }
 ],
 "metadata": {
  "kernelspec": {
   "display_name": "Python 3",
   "language": "python",
   "name": "python3"
  },
  "language_info": {
   "codemirror_mode": {
    "name": "ipython",
    "version": 2
   },
   "file_extension": ".py",
   "mimetype": "text/x-python",
   "name": "python",
   "nbconvert_exporter": "python",
   "pygments_lexer": "ipython2",
   "version": "2.7.6"
  },
  "pycharm": {
   "stem_cell": {
    "cell_type": "raw",
    "source": [],
    "metadata": {
     "collapsed": false
    }
   }
  }
 },
 "nbformat": 4,
 "nbformat_minor": 0
}