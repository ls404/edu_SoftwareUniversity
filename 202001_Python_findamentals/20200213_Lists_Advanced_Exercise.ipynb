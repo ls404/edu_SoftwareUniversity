{
 "cells": [
  {
   "cell_type": "code",
   "execution_count": null,
   "metadata": {
    "collapsed": true
   },
   "outputs": [],
   "source": []
  },
  {
   "cell_type": "markdown",
   "source": [
    "# Excercise: Lists Advanced"
   ],
   "metadata": {
    "collapsed": false
   }
  },
  {
   "cell_type": "markdown",
   "source": [
    "##1. Which Are In?\n",
    "\n",
    "Given two lists of strings print a new list of the strings that contains words from the first list which are substrings of any of the strings in the second list (only unique values)\n",
    "\n",
    "`Input`\n",
    "\n",
    "There will be 2 lines of input: the two lists separated by \", \"\n",
    "\n",
    "`Output`\n",
    "\n",
    "Print the resulting list on the console\n",
    "\n",
    "`Example`\n",
    "\n",
    "Input|Output\n",
    "-------|-------\n",
    "arp, live, strong - lively, alive, harp, sharp, armstrong|['arp', 'live', 'strong']\n",
    "tarp mice bull - lively alive harp sharp armstrong|[]"
   ],
   "metadata": {
    "collapsed": false
   }
  },
  {
   "cell_type": "code",
   "execution_count": 2,
   "outputs": [
    {
     "name": "stdout",
     "text": [
      "{'arp', 'live', 'strong'}\n"
     ],
     "output_type": "stream"
    }
   ],
   "source": [
    "list_data = input().split(', ')\n",
    "is_it_here = input()\n",
    "result = set()\n",
    "for i in list_data:\n",
    "    if i in is_it_here:\n",
    "        result.add(i)\n",
    "print([x for x in list_data if x in result])\n",
    "\n"
   ],
   "metadata": {
    "collapsed": false,
    "pycharm": {
     "name": "#%%\n",
     "is_executing": false
    }
   }
  },
  {
   "cell_type": "markdown",
   "source": [
    "##2. Big Numbers Lover\n",
    "\n",
    "`You really like big numbers, so you always find a way to form one from numbers given to you`\n",
    "You will receive a single line containing numbers separated by a single space. Form the biggest number possible from them\n",
    "\n",
    "`Example`\n",
    "\n",
    "Input|Output|Comment\n",
    "-|-|-\n",
    "3 30 34 5 9|9534303|The numbers sorted are 9 5 34 30 3\n",
    "1 2 3|321\n"
   ],
   "metadata": {
    "collapsed": false
   }
  },
  {
   "cell_type": "code",
   "execution_count": 5,
   "outputs": [
    {
     "name": "stdout",
     "text": [
      "9534303\n"
     ],
     "output_type": "stream"
    }
   ],
   "source": [
    "num = input().split()\n",
    "sorted_num = sorted(num,reverse=True)\n",
    "print(''.join(sorted_num))\n"
   ],
   "metadata": {
    "collapsed": false,
    "pycharm": {
     "name": "#%%\n",
     "is_executing": false
    }
   }
  }
 ],
 "metadata": {
  "kernelspec": {
   "display_name": "Python 3",
   "language": "python",
   "name": "python3"
  },
  "language_info": {
   "codemirror_mode": {
    "name": "ipython",
    "version": 2
   },
   "file_extension": ".py",
   "mimetype": "text/x-python",
   "name": "python",
   "nbconvert_exporter": "python",
   "pygments_lexer": "ipython2",
   "version": "2.7.6"
  },
  "pycharm": {
   "stem_cell": {
    "cell_type": "raw",
    "source": [],
    "metadata": {
     "collapsed": false
    }
   }
  }
 },
 "nbformat": 4,
 "nbformat_minor": 0
}