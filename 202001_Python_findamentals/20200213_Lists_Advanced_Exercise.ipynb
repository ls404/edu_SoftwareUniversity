{
 "cells": [
  {
   "cell_type": "markdown",
   "source": [
    "# Excercise: Lists Advanced"
   ],
   "metadata": {
    "collapsed": false
   }
  },
  {
   "cell_type": "markdown",
   "source": [
    "-----\n",
    "##1. Which Are In?\n",
    "\n",
    "Given two lists of strings print a new list of the strings that contains words from the first list which are substrings of any of the strings in the second list (only unique values)\n",
    "\n",
    "`Input`\n",
    "\n",
    "There will be 2 lines of input: the two lists separated by \", \"\n",
    "\n",
    "`Output`\n",
    "\n",
    "Print the resulting list on the console\n",
    "\n",
    "`Example`\n",
    "\n",
    "Input|Output\n",
    "-------|-------\n",
    "arp, live, strong - lively, alive, harp, sharp, armstrong|['arp', 'live', 'strong']\n",
    "tarp mice bull - lively alive harp sharp armstrong|[]"
   ],
   "metadata": {
    "collapsed": false
   }
  },
  {
   "cell_type": "code",
   "execution_count": 2,
   "outputs": [
    {
     "name": "stdout",
     "text": [
      "{'arp', 'live', 'strong'}\n"
     ],
     "output_type": "stream"
    }
   ],
   "source": [
    "list_data = input().split(', ')\n",
    "is_it_here = input()\n",
    "result = set()\n",
    "for i in list_data:\n",
    "    if i in is_it_here:\n",
    "        result.add(i)\n",
    "print([x for x in list_data if x in result])\n",
    "\n"
   ],
   "metadata": {
    "collapsed": false,
    "pycharm": {
     "name": "#%%\n",
     "is_executing": false
    }
   }
  },
  {
   "cell_type": "markdown",
   "source": [
    "---------\n",
    "##2. Big Numbers Lover\n",
    "\n",
    "> You really like big numbers, so you always find a way to form one from numbers given to you\n",
    "\n",
    "You will receive a single line containing numbers separated by a single space. Form the biggest number possible from them\n",
    "\n",
    "`Example`\n",
    "\n",
    "Input|Output|Comment\n",
    "-|-|-\n",
    "3 30 34 5 9|9534303|The numbers sorted are 9 5 34 30 3\n",
    "1 2 3|321\n"
   ],
   "metadata": {
    "collapsed": false
   }
  },
  {
   "cell_type": "code",
   "execution_count": 5,
   "outputs": [
    {
     "name": "stdout",
     "text": [
      "9534303\n"
     ],
     "output_type": "stream"
    }
   ],
   "source": [
    "num = input().split()\n",
    "sorted_num = sorted(num,reverse=True)\n",
    "print(''.join(sorted_num))"
   ],
   "metadata": {
    "collapsed": false,
    "pycharm": {
     "name": "#%%\n",
     "is_executing": false
    }
   }
  },
  {
   "cell_type": "markdown",
   "source": [
    "\n",
    "-----\n",
    "## 3. Next Version\n",
    "> You're fed up about changing the version of your software manually. Instead, you will create a little script that will make it for you.\n",
    "\n",
    "You will be given a **version** as in this example: **\"1.3.4\"**. You have to find the **next version** and **print it** (\"**1.3.5\"** from the example). The only **rule** is that the numbers cannot be **greater than 9**. If that happens, set the **current number to 0** and **increase the number before it**. For more clarification, see the examples. **_Note: there will be no case where the first number will get greater than 9_**\n",
    "\n",
    "`Example`\n",
    "\n",
    "Input|Output\n",
    "-|-\n",
    "1.2.3|1.2.4\n",
    "1.3.9|1.4.0\n",
    "3.9.9|4.0.0\n"
   ],
   "metadata": {
    "collapsed": false
   }
  },
  {
   "cell_type": "code",
   "execution_count": 5,
   "outputs": [
    {
     "name": "stdout",
     "text": [
      "4.0.0\n"
     ],
     "output_type": "stream"
    }
   ],
   "source": [
    "str_num = input().split('.')\n",
    "num = int(''.join(str_num)) + 1\n",
    "print('.'.join(str(num)))"
   ],
   "metadata": {
    "collapsed": false,
    "pycharm": {
     "name": "#%%\n",
     "is_executing": false
    }
   }
  },
  {
   "cell_type": "markdown",
   "source": [
    "------\n",
    "##4. Office Chairs\n",
    "> So you've found a meeting room - phew! You arrive there ready to present, and find that someone has taken one or more of the chairs!! You need to find some quick.... check all the other meeting rooms to see if all of the chairs are in use.\n",
    "\n",
    "You will be given a number n representing how many rooms there are. On the next n lines for each room you will get how many chairs there are and how many of them will be taken. The chairs will be represented by \"X\"s, then there will be a space \" \" and a number representing the taken places. **_Example:_** \"XXXXX 4\" (5 chairs and 1 of them is left free). Keep track of the free chairs, you will need them later. However if you get to a room where there are more people than chairs, print the following message:\n",
    "\n",
    "`\"{needed_chairs_in_room} more chairs needed in room {number_of_room}\". If there is enough chairs in each room print: \"Game On, {total_free_chairs} free chairs left\"`\n",
    "\n",
    "`Example`\n",
    "\n",
    "\n",
    "| Input                                                     | Output                                                                     |\n",
    "|-----------------------------------------------------------|----------------------------------------------------------------------------|\n",
    "| 4<br>XXXX 4<br>XX 1<br>XXXXXX 3<br>XXX 3      | Game On, 4 free chairs left                                                |\n",
    "| 3<br>XXXXXXX 5<br>XXXX 5<br>XXXXXX 8 | 1 more chairs needed in room 2<br>2 more chairs needed in room 3 |\n",
    "                                                                                                                                "
   ],
   "metadata": {
    "collapsed": false
   }
  },
  {
   "cell_type": "code",
   "execution_count": null,
   "outputs": [],
   "source": [
    "rooms = int(input())\n",
    "game_on = True\n",
    "chairs_left = 0\n",
    "for i in range(1,rooms+1):\n",
    "    cmd = input().split()\n",
    "    chairs = len(cmd[0])\n",
    "    chairs_to_take = int(cmd[1])\n",
    "    if chairs >=chairs_to_take:\n",
    "        chairs_left += chairs - chairs_to_take\n",
    "    else:\n",
    "        print(f\"{chairs_to_take - chairs} more chairs needed in room {i}\")\n",
    "        game_on = False\n",
    "if game_on:\n",
    "    print(f\"Game On, {chairs_left} free chairs left\")\n",
    "\n",
    "\n"
   ],
   "metadata": {
    "collapsed": false,
    "pycharm": {
     "name": "#%%\n"
    }
   }
  },
  {
   "cell_type": "markdown",
   "source": [
    "-----\n",
    "## 5. Electron Distribution\n",
    "> You are a mad scientist and you decided to play with electron distribution among atom's shells. You know that basic idea of electron distribution is that electrons should fill a shell until it's holding the maximum number of electrons.\n",
    "\n",
    "The **rules** for electron distribution are as follows:\n",
    "* Maximum number of electrons in a shell is distributed with a rule of **2n^2** (n being **position** of a **shell** a.k.a. the list **index + 1**).\n",
    "* For example, maximum number of electrons in **3rd** shield is **2*3^2 = 18**.\n",
    "* Electrons should fill the **lowest level** shell **first**.\n",
    "* If the electrons have **completely filled** the **lowest level** shell, the other **unoccupied electrons** will fill the **higher level** shell and so on.\n",
    "\n",
    "`Example`\n",
    "\n",
    "Input|Output\n",
    "-|-\n",
    "10|[2, 8]\n",
    "44|[2, 8, 18, 16]\n"
   ],
   "metadata": {
    "collapsed": false
   }
  },
  {
   "cell_type": "code",
   "execution_count": 8,
   "outputs": [
    {
     "name": "stdout",
     "text": [
      "[2, 8, 18, 16]\n"
     ],
     "output_type": "stream"
    }
   ],
   "source": [
    "num = int(input())\n",
    "result = []\n",
    "counter = 1\n",
    "while num > 0:\n",
    "    add_num = 2 * counter ** 2\n",
    "    if add_num > num:\n",
    "        add_num = num\n",
    "    result.append(add_num)\n",
    "    num -= add_num\n",
    "    counter += 1\n",
    "print(result)\n"
   ],
   "metadata": {
    "collapsed": false,
    "pycharm": {
     "name": "#%%\n",
     "is_executing": false
    }
   }
  },
  {
   "cell_type": "markdown",
   "source": [
    "----\n",
    "## 6. Group of 10's\n",
    "\n",
    "Write a program that receives a **list of numbers** (string containing **integers** separated by \", \") and **prints lists** with the numbers them into lists of **10's**. \n",
    "\n",
    "`Examples`\n",
    "* The numbers 2 8 4 3 fall into the group under 10\n",
    "* The numbers 13 19 14 15 fall into the group under 20\n",
    "For more details, see the examples below:\n",
    "\n",
    "Input|Output\n",
    "-|-\n",
    "8, 12, 38, 3, 17, 19, 25, 35, 50| Group of 10's: [8, 3]<br>Group of 20's: [12, 17, 19]<br>Group of 30's: [25]<br>Group of 40's: [38, 35]<br>Group of 50's: [50]\n",
    "1, 3, 3, 4, 34, 35, 25, 21, 33|Group of 10's: [1, 3, 3, 4]<br>Group of 20's: []<br>Group of 30's: [25, 21]<br>Group of 40's: [34, 35, 33]\n",
    "\n",
    "`Hints`\n",
    "* **Keep track of the group** using a variable to store it's **max value**\n",
    "* Create a **loop** and **filter the elements** that are less than the group boundary and **remove** them from the **original list**\n",
    "* **Increase** the **boundary by 10**\n",
    "* **Loop until** the given **list is empty**"
   ],
   "metadata": {
    "collapsed": false
   }
  },
  {
   "cell_type": "code",
   "execution_count": 18,
   "outputs": [
    {
     "name": "stdout",
     "text": [
      "Group of 10's: [1, 3, 3, 4]\n",
      "Group of 20's: []\n",
      "Group of 30's: [25, 21]\n",
      "Group of 40's: [34, 35, 33]\n"
     ],
     "output_type": "stream"
    }
   ],
   "source": [
    "lst = [int(x) for x in input().split(\", \")]\n",
    "max_dozen = (max(lst) - 1)//10+1\n",
    "for i in range(1,max_dozen+1):\n",
    "    return_lst = [x for x in lst if i * 10 - 10 < x < i * 10 + 1]\n",
    "    print(f\"Group of {i}0's: {return_lst}\")\n"
   ],
   "metadata": {
    "collapsed": false,
    "pycharm": {
     "name": "#%%\n",
     "is_executing": false
    }
   }
  },
  {
   "cell_type": "markdown",
   "source": [
    "------\n",
    "## 7. Decipher This!\n",
    "You are given a **secret message** you need to **decipher**. Here are the things you need to know to decipher it:\n",
    "For **each word**:\n",
    "* the **second** and the **last letter** are **switched** (e.g. Hello becomes Holle)\n",
    "* the **first letter** is **replaced** by its **character code** (e.g. H becomes 72)\n",
    "\n",
    "`Example`\n",
    "\n",
    "Input|Output\n",
    "-|-\n",
    "72olle 103doo 100ya|Hello good day\n",
    "82yade 115te 103o|Ready set go"
   ],
   "metadata": {
    "collapsed": false
   }
  },
  {
   "cell_type": "code",
   "execution_count": 27,
   "outputs": [
    {
     "name": "stdout",
     "text": [
      "Hello good day\n"
     ],
     "output_type": "stream"
    }
   ],
   "source": [
    "cypher = input().split()\n",
    "answer = []\n",
    "for i in cypher:\n",
    "    result =  chr(int(''.join(list(filter(str.isdigit,i)))))\n",
    "    reminder =''.join(list(filter(str.isalpha,i)))\n",
    "    if len(reminder) <= 1:\n",
    "        result += reminder\n",
    "        answer.append(result)\n",
    "    else:\n",
    "        reminder = reminder[-1] + reminder[1:-1]+reminder[0]\n",
    "        result += reminder\n",
    "        answer.append(result)\n",
    "print(' '.join(answer))"
   ],
   "metadata": {
    "collapsed": false,
    "pycharm": {
     "name": "#%%\n",
     "is_executing": false
    }
   }
  },
  {
   "cell_type": "markdown",
   "source": [
    "-----\n",
    "## 8. ** Feed the Animals\n",
    "\n",
    "> *The sanctuary needs to provide food for the animals and feed them, so your task is to help with the process*\n",
    "\n",
    "Create a program that organizes the **daily feeding** of **animals**. You need to keep information about **animals**, their **daily food limit** and the **areas** of the Wildlife Refuge **they live in**. You will be receiving **lines** with commands until you receive the **\"Last Info\"** message.  There are two possible commands: \n",
    "\n",
    "* **\"Add:{animalName}:{dailyFoodLimit}:{area}\"**:\n",
    "        ◦ Add the animal and its daily food limit to your records. It is guaranteed that the names of the animals are unique and there will never be animals with the same name. If it already exists, just increase the value of the daily food limit with the current one that is given.\n",
    "* **\"Feed:{animalName}:{food}:{area}\"**:\n",
    "        ◦ Check if the animal exists and if it does, reduce its daily food limit with the given food for feeding. If its limit reaches 0 or less, the animal is considered successfully fed and you need to remove it from your records and print the following message:\n",
    "            ▪ \"{animalName} was successfully fed\"\n",
    "\n",
    "You need to know the count of hungry animals there are left in each area in the end. If an animal has daily food limit above 0, it is considered hungry.\n",
    "\n",
    "In the end, you have to print each animal with its daily food limit sorted in descending order by the daily food limit and then by its name in ascending order in the following format: \n",
    "\n",
    "**Animals:\n",
    "{animalName} -> {dailyFoodLimit}g\n",
    "{animalName} -> {dailyFoodLimit}g**\n",
    "\n",
    "Afterwards, print the areas with the count of animals, which are not fed in descending order by the count of animals. If an area has 0 hungry animals in it, don't print it. The output must be in the following format:\n",
    "\n",
    "**Areas with hungry animals:\n",
    "{areaName} : {countOfUnfedAnimals}\n",
    "{areaName} : {countOfUnfedAnimals}**\n",
    "\n",
    "`Input / Consrtaints`\n",
    "* You will be receiving lines until you receive the \"Last Info\" command.\n",
    "* The food comes in grams and is an integer number in the range [1...100000].\n",
    "* The input will always be valid.\n",
    "* There will never be a case, in which an animal is in two or more areas at the same time.\n",
    "\n",
    "`Output`\n",
    "* Print the appropriate message after the \"Feed\" command, if an animal is fed.\n",
    "* Print the animals with their daily food limit in the format described above.\n",
    "* Print the areas with the count of unfed animals in them in the format described above.\n",
    "\n",
    "`Examples`\n",
    "\n",
    "Input|Output\n",
    "-|-\n",
    "Add:Maya:7600:WaterfallArea<br>Add:Bobbie:6570:DeepWoodsArea<br>Add:Adam:4500:ByTheCreek<br>Add:Jamie:1290:RiverArea<br>Add:Gem:8730:WaterfallArea<br>Add:Maya:1230:WaterfallArea<br>Add:Jamie:560:RiverArea<br>Feed:Bobbie:6300:DeepWoodsArea<br>Feed:Adam:4650:ByTheCreek<br>Feed:Jamie:2000:RiverArea<br>Last Info|Adam was successfully fed<br>Jamie was successfully fed<br>Animals:<br>Maya -> 8830g<br>Gem -> 8730g<br>Bobbie -> 270g<br>Areas with hungry animals:<br>WaterfallArea : 2<br>DeepWoodsArea : 1\n",
    "\n",
    "`Comments`\n",
    "\n",
    "First, we receive the \"Add\" command, so we add \"Maya\" to our records and we keep her daily food limit - 7600. We know that she is in WaterfallArea. We keep adding the new animals until we receive \"Maya\" again and we have to increase her food limit with 1230, so it becomes 8830. After that we receive \"Jamie\" and we need to increase his daily food limit with 560, after which it becomes 1850. Then we start receiving \"Feed\" commands. First, we must decrease Bobbie's food limit with 6300, so it becomes 270. Then, we need to decrease Adam's food limit with 4650. It becomes less than zero and we remove him from the collection – he is considered fed, respectively that is one less hungry animal in the area that he is in – ByTheCreek. Then we \"Feed\" Jamie with 2000 and his limit becomes less than zero, so we print \"Jamie was successfully fed\" and we remove him from our records and note that there is one less hungry animal in his area – RiverArea. In the end, we print the animals we still have in our collection, with their daily food limits in descending order by the food limits. Afterwards we print only the areas in which there are remaining hungry animals and their count in descending order.\n",
    "\n",
    "Input|Output\n",
    "-|-\n",
    "Add:Bonie:3490:RiverArea<br>Add:Sam:5430:DeepWoodsArea<br>Add:Bonie:200:RiverArea<br>Add:Maya:4560:ByTheCreek<br>Feed:Maya:2390:ByTheCreek<br>Feed:Bonie:3500:RiverArea<br>Feed:Johny:3400:WaterFall<br>Feed:Sam:5500:DeepWoodsArea<br>Last Info|Sam was succesfully fed<br>Animals:<br>Maya -> 2170g<br>Bonie -> 190g<br>Areas with hungry animals:<br>RiverArea : 1<br>ByTheCreek : 1"
   ],
   "metadata": {
    "collapsed": false
   }
  },
  {
   "cell_type": "code",
   "execution_count": null,
   "outputs": [],
   "source": [],
   "metadata": {
    "collapsed": false,
    "pycharm": {
     "name": "#%%\n"
    }
   }
  },
  {
   "cell_type": "markdown",
   "source": [
    "------\n",
    "## 9. ** On the Way to Annapurna\n",
    "\n",
    ">  *You’ve hired a Sherpa and he has a list of supplies you both need to go on the way. He has passed you some notes and you have to order them correctly in a diary before you start circling around the town’s stores.*\n",
    "\n",
    "Create a program, that lists stores and the items that can be found in them. You are going to be receiving commands with the information you need until you get the \"End\" command. There are three possible commands:\n",
    "    • \"Add->{Store}->{Item}\"\n",
    "        ◦ Add the store and the item in your diary. If the store already exists, add just the item.\n",
    "    • \"Add->{Store}->{Item},{Item1}…,{ItemN}\"\n",
    "        ◦ Add the store and the items to your notes. If the store already exists in the diary – add just the items to it. \n",
    "    • \"Remove->{Store}\"\n",
    "        ◦ Remove the store and its items from your diary, if it exists.\n",
    "In the end, print the collection sorted by the count of the items in descending order and then by the names of the stores, again, in descending order in the following format:\n",
    "Stores list:\n",
    "{Store}\n",
    "<<{Item}>>\n",
    "<<{Item}>>\n",
    "<<{Item}>>\n",
    "\n",
    "#### Input / Constraints\n",
    "* You will be receiving information until the “END” command is given.\n",
    "* There will always be at least one store in the diary.\n",
    "* Input will always be valid, there is no need to check it explicitly.\n",
    "\n",
    "#### Output\n",
    "* Print the list of stores in the format given above.\n",
    "\n",
    "Input|Output|Comments\n",
    "-|-|-\n",
    "Add->PeakSports->Map,Navigation,Compass<br>Add->Paragon->Sunscreen<br>Add->Groceries->Dried-fruit,Nuts<br>Add->Groceries->Nuts<br>Add->Paragon->Tent<br>Remove->Paragon<br>Add->Pharmacy->Pain-killers<br>END|Stores list:<br>PeakSports<br>`<<Map>>`<br>`<<Navigation>>`<br>`<<Compass>>`<br>Groceries<br>`<<Dried-fruit>>`<br>`<<Nuts>>`<br>`<<Nuts>>`<br>Pharmacy<br>`<<Pain-killers>>`|First, we receive the \"Add\" command with a couple of items and we have to add the store and the items to. We keep doing that for each line of input and when we receive the \"Remove\" command, we delete the store and its items from our records. In the end we print the stores sorted by the count of their items and then by their names.\n",
    "\n",
    "Input|Output\n",
    "-|-\n",
    "Add->Peak->Waterproof,Umbrella<br>Add->Groceries->Water,Juice,Food<br>Add->Peak->Tent<br>Add->Peak->Sleeping-Bag<br>Add->Peak->Jacket<br>Add->Groceries->Lighter<br>Remove->Groceries<br>Remove->Store<br>END|Stores list:<br>Peak<br>`<<Waterproof>>`<br>`<<Umbrella>>`<br>`<<Tent>>`<br>`<<Sleeping-Bag>>`<br>`<<Jacket>>`"
   ],
   "metadata": {
    "collapsed": false
   }
  },
  {
   "cell_type": "code",
   "execution_count": null,
   "outputs": [],
   "source": [
    "result = dict()\n",
    "while True:\n",
    "    entry = input().split(\"->\")\n",
    "    command = entry[0]\n",
    "    if command == 'END':\n",
    "        break\n",
    "    elif command == 'Add':\n",
    "        if entry[1] not in  result.keys():\n",
    "            result[entry[1]] = list()\n",
    "        result[entry[1]]= result[entry[1]] + (list(entry[2].split(',')))\n",
    "    elif command == 'Remove':\n",
    "        result.pop(entry[1], None)\n",
    "\n",
    "print(\"Stores list:\")\n",
    "for i in sorted(result, key = lambda x: (len(result[x]), x), reverse = True):\n",
    "    print(i)\n",
    "    for k in result[i]:\n",
    "        print(\"<<\"+k+\">>\")\n"
   ],
   "metadata": {
    "collapsed": false,
    "pycharm": {
     "name": "#%%\n"
    }
   }
  },
  {
   "cell_type": "markdown",
   "source": [
    "-----------\n",
    "## 10. ** Practice Sessions\n",
    "\n",
    "> The racers must practice for the race. Your job is to keep the records of the roads and the time for each lap. The track with the best time will be the chosen one for the finals.\n",
    "\n",
    "Write a program, that keeps information about **roads** and **the racers** who practice on them.  When the practice begins, you’re going to start receiving data until you get the **\"END\"** message. There are three possible commands:\n",
    "* \"Add->{road}->{racer}\"\n",
    "        ◦ Add the road if it doesn't exist in your collection and add the racer to it.\n",
    "*\"Move->{currentRoad}->{racer}->{nextRoad}\"\n",
    "        ◦ Find the racer on the current road and move him to the next one, only if he exists in the current road. Both roads will always be valid and will already exist.\n",
    "*\"Close->{road}\"\n",
    "        ◦ Find the road and remove it from the sessions, along with the racers on it if it exists.\n",
    "        \n",
    "In the end, print all of the roads with the racers who have practiced and ordered by the count of the racers in descending order, then by the roads in ascending order. The output must be in the following format:\n",
    "**Practice sessions:<br>\n",
    "{road}<br>\n",
    "++{racer}<br>\n",
    "++{racer}<br>\n",
    "++{racer}**\n",
    "\n",
    "`Input / Constraints`\n",
    "* You will be receiving lines of information in the format described above, until you receive the **\"END\"** command.\n",
    "* The input will always be in the right format.\n",
    "* Both **roads** from the **\"Move\"** command will always be **valid** and you don't need to check them explicitly. \n",
    "\n",
    "`Output`\n",
    "* Print the **roads** with their **racers** in the **format described above**.\n",
    "\n",
    "`Examples`\n",
    "\n",
    "Input|Output\n",
    "-|-\n",
    "Add->Glencrutchery Road->Giacomo Agostini<br>Add->Braddan->Geoff Duke<br>Add->Peel road->Mike Hailwood<br>Add->Glencrutchery Road->Guy Martin<br>Move->Glencrutchery Road->Giacomo Agostini->Peel road<br>Close->Braddan<br>END|Practice sessions:<br>Peel road<br>++Mike Hailwood<br>++Giacomo Agostini<br>Glencrutchery Road<br>++Guy Martin\n",
    "\n",
    "\n",
    "`Comments`\n",
    "We add racers to the roads they are racing on. When we receive the **\"Move\"** command, we **check** if **Giacomo Agostini** is on **Glencrutchery Road** and if he is, we **remove** him from it and **add** him to the next one - **Peel road**.\n",
    "\n",
    "When we receive the **\"Close\"** command, we **remove** Brandon road and **remove** all its records. In the end we print the **roads sorted** by the **count** of **racers** on them and **then by** the **names** of the **roads** in **ascending order**.\n",
    "\n",
    "Input|Output\n",
    "-|-\n",
    "Add->Glen Vine->Steve Hislop<br>Add->Ramsey road->John McGuinness<br>Add->Glen Vine->Ian Hutchinson<br>Add->Ramsey road->Dave Molyneux<br>Move->Ramsey road->Hugh Earnsson->Glen Vine<br>Add->A18 Snaefell mountain road->Mike Hailwood<br>Add->Braddan->Geoff Duke<br>Move->A18 Snaefell mountain road->Mike Hailwood->Braddan<br>Move->Braddan->John McGuinness->Glen Vine<br>Close->A18 Snaefell mountain road<br>END|Practice sessions:<br>Braddan<br>++Geoff Duke<br>++Mike Hailwood<br>Glen Vine<br>++Steve Hislop<br>++Ian Hutchinson<br>Ramsey road<br>++John McGuinness<br>++Dave Molyneux"
   ],
   "metadata": {
    "collapsed": false
   }
  },
  {
   "cell_type": "code",
   "execution_count": 7,
   "outputs": [
    {
     "name": "stdout",
     "text": [
      "Practice sessions:\n",
      "Glen Vine\n",
      "++Steve Hislop\n",
      "++Ian Hutchinson\n",
      "++Hugh Earnsson\n",
      "++John McGuinness\n",
      "Braddan\n",
      "++Geoff Duke\n",
      "++Mike Hailwood\n",
      "Ramsey road\n",
      "++John McGuinness\n",
      "++Dave Molyneux\n"
     ],
     "output_type": "stream"
    }
   ],
   "source": [
    "result = dict()\n",
    "while True:\n",
    "    entry = input().split(\"->\")\n",
    "    command = entry[0]\n",
    "    if command == 'END':\n",
    "        break\n",
    "    elif command == 'Add':\n",
    "        if entry[1] not in  result.keys():\n",
    "            result[entry[1]] = list()\n",
    "        result[entry[1]].append(entry[2])\n",
    "    elif command == 'Move':\n",
    "        if entry[3] not in  result.keys():\n",
    "            result[entry[3]] = list()\n",
    "        if entry[2] in result[entry[1]]:\n",
    "            result[entry[1]].remove(entry[2])\n",
    "            result[entry[3]].append(entry[2])\n",
    "    elif command == 'Close':\n",
    "        result.pop(entry[1], None)\n",
    "\n",
    "print(\"Practice sessions:\")\n",
    "for i in sorted(sorted(result),key = lambda x: len(result[x]), reverse=True):\n",
    "    print(i)\n",
    "    for k in result[i]:\n",
    "        print(\"++\" + k)"
   ],
   "metadata": {
    "collapsed": false,
    "pycharm": {
     "name": "#%%\n",
     "is_executing": false
    }
   }
  }
 ],
 "metadata": {
  "kernelspec": {
   "display_name": "Python 3",
   "language": "python",
   "name": "python3"
  },
  "language_info": {
   "codemirror_mode": {
    "name": "ipython",
    "version": 2
   },
   "file_extension": ".py",
   "mimetype": "text/x-python",
   "name": "python",
   "nbconvert_exporter": "python",
   "pygments_lexer": "ipython2",
   "version": "2.7.6"
  },
  "pycharm": {
   "stem_cell": {
    "cell_type": "raw",
    "source": [],
    "metadata": {
     "collapsed": false
    }
   }
  }
 },
 "nbformat": 4,
 "nbformat_minor": 0
}