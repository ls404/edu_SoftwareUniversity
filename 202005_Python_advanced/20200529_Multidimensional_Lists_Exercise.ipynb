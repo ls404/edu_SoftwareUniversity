{
 "cells": [
  {
   "cell_type": "markdown",
   "metadata": {
    "collapsed": true,
    "pycharm": {
     "name": "#%% md\n"
    }
   },
   "source": [
    "#    1. Diagonal Difference\n",
    "Write a program that finds the difference between the sums of the square matrix diagonals (absolute value).\n",
    "\n",
    "Input\n",
    "* On the first line, you are given the integer N - the size of the square matrix\n",
    "* The next N lines holds the values for every row - N numbers separated by a space\n",
    "Output\n",
    "* Print the absolute difference between the sums of the primary and the secondary diagonal\n",
    "\n",
    "`Examples`\n",
    "\n",
    "Input|Output|Comments\n",
    "-|-|-\n",
    "3<br>11 2 4<br>4 5 6<br>10 8 -12|15|Primary diagonal: sum = 11 + 5 + (-12) = 4<br>Secondary diagonal: sum = 4 + 5 + 10 = 19<br>Difference: |4 - 19| = 15\n",
    "\n",
    "\n"
   ]
  },
  {
   "cell_type": "code",
   "execution_count": null,
   "outputs": [],
   "source": [
    "def read_matrix(delimeter):\n",
    "    size = int(input())\n",
    "    matrix = [list(map(int, input().split(delimeter))) for _ in range(size)]\n",
    "    return matrix\n",
    "\n",
    "def get_sum(matrix, row_def, col_def):\n",
    "    size = len(matrix)\n",
    "    the_sum = 0\n",
    "    for x in range(size):\n",
    "        row = row_def(x, size)\n",
    "        col = col_def(x, size)\n",
    "        the_sum += matrix[row][col]\n",
    "    return the_sum\n",
    "\n",
    "def sum_primary_diagonal(matrix):\n",
    "    return get_sum(matrix, lambda x, n: x, lambda x, n: x)\n",
    "def sum_secondary_diagonal(matrix):\n",
    "    return get_sum(matrix, lambda x, n: x, lambda x, n: n - x - 1)\n",
    "\n",
    "matrix = read_matrix(\" \")\n",
    "difference = abs(sum_primary_diagonal(matrix) - sum_secondary_diagonal(matrix))\n",
    "print(difference)"
   ],
   "metadata": {
    "collapsed": false,
    "pycharm": {
     "name": "#%%\n"
    }
   }
  },
  {
   "cell_type": "markdown",
   "source": [
    "-----\n",
    "#    2. 2 X 2 Squares in Matrix\n",
    "Find the count of 2 x 2 squares of equal chars in a matrix.\n",
    "Input\n",
    "* On the first line, you are given the integers rows and cols - the matrix's dimensions\n",
    "* Matrix characters come at the next rows (space separated)\n",
    "Output\n",
    "* Print the number of all the square matrices you have found\n",
    "\n",
    "\n",
    "`Examples`\n",
    "\n",
    "Input|Output|Comments\n",
    "-|-|-\n",
    "3 4<br>A B B D<br>E B B B<br>I J B B<br>|2|Two 2 x 2 squares of equal cells:<br>A B B D\tA B B D<br>E B B B\tE B B B<br>I J B B\tI J B B\n",
    "2 2<br>a b<br>c d|0|No 2 x 2 squares of equal cells exist.\n",
    "\n",
    "\n"
   ],
   "metadata": {
    "collapsed": false
   }
  },
  {
   "cell_type": "code",
   "execution_count": 7,
   "outputs": [
    {
     "name": "stderr",
     "output_type": "stream",
     "text": [
      "warning: PYDEVD_USE_CYTHON environment variable is set to 'NO'. Frame evaluator will be also disabled because it requires Cython extensions to be enabled in order to operate correctly.\n"
     ]
    },
    {
     "name": "stdout",
     "output_type": "stream",
     "text": [
      "4\n"
     ]
    }
   ],
   "source": [
    "x,y = input().split()\n",
    "x,y = int(x), int(y)\n",
    "matrix = []\n",
    "counter = 0\n",
    "for i in range(x):\n",
    "    matrix.append(input().split())\n",
    "\n",
    "# print(matrix)\n",
    "\n",
    "for i in range(x-1):\n",
    "    for j in range(y - 1):\n",
    "        if matrix[i][j] == matrix[i+1][j+1] == matrix[i+1][j] == matrix[i][j+1]:\n",
    "            counter += 1\n",
    "\n",
    "print(counter)\n",
    "\n",
    "\n"
   ],
   "metadata": {
    "collapsed": false,
    "pycharm": {
     "name": "#%%\n"
    }
   }
  }
 ],
 "metadata": {
  "kernelspec": {
   "display_name": "Python 3",
   "language": "python",
   "name": "python3"
  },
  "language_info": {
   "codemirror_mode": {
    "name": "ipython",
    "version": 2
   },
   "file_extension": ".py",
   "mimetype": "text/x-python",
   "name": "python",
   "nbconvert_exporter": "python",
   "pygments_lexer": "ipython2",
   "version": "2.7.6"
  }
 },
 "nbformat": 4,
 "nbformat_minor": 0
}