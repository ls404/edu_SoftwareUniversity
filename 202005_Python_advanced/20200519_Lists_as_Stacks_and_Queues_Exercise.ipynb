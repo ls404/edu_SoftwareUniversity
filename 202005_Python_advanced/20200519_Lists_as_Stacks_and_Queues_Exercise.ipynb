{
 "cells": [
  {
   "cell_type": "markdown",
   "metadata": {
    "collapsed": true,
    "pycharm": {
     "name": "#%% md\n"
    }
   },
   "source": [
    "# Lists as Stacks and Queues - Exercise\n",
    "\n",
    "##    1. Reverse Numbers with a Stack\n",
    "\n",
    "Write a program that reads N integers from the console and reverses them using a stack\n",
    "Examples\n",
    "\n",
    "Input|Output\n",
    "-|-\n",
    "1 2 3 4 5|5 4 3 2 1\n",
    "1|1\n"
   ]
  },
  {
   "cell_type": "code",
   "execution_count": 7,
   "outputs": [
    {
     "name": "stdout",
     "output_type": "stream",
     "text": [
      "5 4 3 2 1\n"
     ]
    }
   ],
   "source": [
    "# print(input()[::-1])\n",
    "\n",
    "string = input().split()\n",
    "length = len(string)\n",
    "result = []\n",
    "for i in range(length):\n",
    "    result.append(string.pop())\n",
    "print(\" \".join(result))"
   ],
   "metadata": {
    "collapsed": false,
    "pycharm": {
     "name": "#%%\n"
    }
   }
  },
  {
   "cell_type": "markdown",
   "source": [
    "Max Min"
   ],
   "metadata": {
    "collapsed": false
   }
  },
  {
   "cell_type": "code",
   "execution_count": 2,
   "outputs": [
    {
     "name": "stdout",
     "output_type": "stream",
     "text": [
      "32\n",
      "66\n",
      "8\n",
      "8, 16, 25, 32, 66, 47\n"
     ]
    }
   ],
   "source": [
    "number_of_queries = int(input())\n",
    "elements = []\n",
    "for _ in range(number_of_queries):\n",
    "    command = [int(n) for n in input().split()]\n",
    "    query = command[0]\n",
    "    if len(command) > 1:\n",
    "        element = command[1]\n",
    "    if query == 1:\n",
    "        elements.append(element)\n",
    "    elif query == 2 and len(elements):\n",
    "        elements.pop()\n",
    "    elif query == 3:\n",
    "        if len(elements):\n",
    "            print(max(elements))\n",
    "    elif query == 4:\n",
    "        if len(elements):\n",
    "            print(min(elements))\n",
    "print(', '.join([str(el) for el in reversed(elements)]))\n",
    "\n"
   ],
   "metadata": {
    "collapsed": false,
    "pycharm": {
     "name": "#%%\n"
    }
   }
  },
  {
   "cell_type": "markdown",
   "source": [
    "Fast food"
   ],
   "metadata": {
    "collapsed": false
   }
  },
  {
   "cell_type": "code",
   "execution_count": null,
   "outputs": [],
   "source": [
    "from collections import deque\n",
    "\n",
    "food = int(input())\n",
    "orders =[ int(i) for i in input().split()]\n",
    "\n",
    "orders_que = deque(orders)\n",
    "print(max(orders))\n",
    "while orders_que:\n",
    "    current_order = orders_que.popleft()\n",
    "    if food >= current_order:\n",
    "        food -= current_order\n",
    "    else:\n",
    "        orders_que.appendleft(current_order)\n",
    "        print(f'Orders left: {\" \".join([str(n) for n in orders_que])}')\n",
    "        break\n",
    "if not orders_que:\n",
    "    print('Orders complete')"
   ],
   "metadata": {
    "collapsed": false,
    "pycharm": {
     "name": "#%%\n"
    }
   }
  },
  {
   "cell_type": "markdown",
   "source": [
    "Boutique\n"
   ],
   "metadata": {
    "collapsed": false,
    "pycharm": {
     "name": "#%% md\n"
    }
   }
  },
  {
   "cell_type": "code",
   "source": [
    "Truck"
   ],
   "metadata": {
    "collapsed": false,
    "pycharm": {
     "name": "#%%\n",
     "is_executing": true
    }
   },
   "execution_count": null,
   "outputs": []
  },
  {
   "cell_type": "markdown",
   "source": [],
   "metadata": {
    "collapsed": false
   }
  },
  {
   "cell_type": "code",
   "execution_count": null,
   "outputs": [],
   "source": [
    "from collections import deque\n",
    "\n",
    "n = int(input())\n",
    "pumps = deque()\n",
    "for i in range(n):\n",
    "    pumps.append([int(j) for j in input().split()])\n",
    "for i in range(n):\n",
    "    is_valid = True\n",
    "    fuel = 0\n",
    "    for j in range(n):\n",
    "        current = pumps.popleft()\n",
    "        fuel += current[0] - current[1]\n",
    "        if fuel < 0:\n",
    "            is_valid = False\n",
    "        pumps.append(current)\n",
    "    if is_valid:\n",
    "        print(i)\n",
    "        break\n",
    "    pumps.append(pumps.popleft())\n",
    "\n"
   ],
   "metadata": {
    "collapsed": false,
    "pycharm": {
     "name": "#%%\n",
     "is_executing": true
    }
   }
  },
  {
   "cell_type": "markdown",
   "source": [
    "6. Balanced Parentheses"
   ],
   "metadata": {
    "collapsed": false
   }
  },
  {
   "cell_type": "code",
   "execution_count": null,
   "outputs": [],
   "source": [
    "\n",
    "from collections import deque\n",
    "\n",
    "parentheses = deque(p for p in input())\n",
    "openings = []\n",
    "is_valid = True\n",
    "\n",
    "while parentheses:\n",
    "    current = parentheses.popleft()\n",
    "    if current in ['{', '[', '(']:\n",
    "        openings.append(current)\n",
    "    else:\n",
    "        if openings:\n",
    "            last = openings.pop()\n",
    "            if (last == '{' and current != '}') or (last == '[' and current != ']') or (last == '(' and current != ')'):\n",
    "                is_valid = False\n",
    "        else:\n",
    "            is_valid = False\n",
    "\n",
    "if is_valid:\n",
    "    print('YES')\n",
    "else:\n",
    "    print('NO')\n"
   ],
   "metadata": {
    "collapsed": false,
    "pycharm": {
     "name": "#%%\n",
     "is_executing": true
    }
   }
  }
 ],
 "metadata": {
  "kernelspec": {
   "display_name": "Python 3",
   "language": "python",
   "name": "python3"
  },
  "language_info": {
   "codemirror_mode": {
    "name": "ipython",
    "version": 2
   },
   "file_extension": ".py",
   "mimetype": "text/x-python",
   "name": "python",
   "nbconvert_exporter": "python",
   "pygments_lexer": "ipython2",
   "version": "2.7.6"
  }
 },
 "nbformat": 4,
 "nbformat_minor": 0
}