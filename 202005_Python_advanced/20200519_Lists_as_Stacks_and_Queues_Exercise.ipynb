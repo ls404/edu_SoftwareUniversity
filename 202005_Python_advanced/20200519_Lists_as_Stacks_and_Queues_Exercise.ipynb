{
 "cells": [
  {
   "cell_type": "markdown",
   "metadata": {
    "collapsed": true,
    "pycharm": {
     "name": "#%% md\n"
    }
   },
   "source": [
    "# Lists as Stacks and Queues - Exercise\n",
    "\n",
    "##    1. Reverse Numbers with a Stack\n",
    "\n",
    "Write a program that reads N integers from the console and reverses them using a stack\n",
    "Examples\n",
    "\n",
    "Input|Output\n",
    "-|-\n",
    "1 2 3 4 5|5 4 3 2 1\n",
    "1|1\n"
   ]
  },
  {
   "cell_type": "code",
   "execution_count": 7,
   "outputs": [
    {
     "name": "stdout",
     "output_type": "stream",
     "text": [
      "5 4 3 2 1\n"
     ]
    }
   ],
   "source": [
    "# print(input()[::-1])\n",
    "\n",
    "string = input().split()\n",
    "length = len(string)\n",
    "result = []\n",
    "for i in range(length):\n",
    "    result.append(string.pop())\n",
    "print(\" \".join(result))\n"
   ],
   "metadata": {
    "collapsed": false,
    "pycharm": {
     "name": "#%%\n"
    }
   }
  }
 ],
 "metadata": {
  "kernelspec": {
   "display_name": "Python 3",
   "language": "python",
   "name": "python3"
  },
  "language_info": {
   "codemirror_mode": {
    "name": "ipython",
    "version": 2
   },
   "file_extension": ".py",
   "mimetype": "text/x-python",
   "name": "python",
   "nbconvert_exporter": "python",
   "pygments_lexer": "ipython2",
   "version": "2.7.6"
  }
 },
 "nbformat": 4,
 "nbformat_minor": 0
}