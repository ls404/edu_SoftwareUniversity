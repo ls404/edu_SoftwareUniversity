{
 "cells": [
  {
   "cell_type": "markdown",
   "metadata": {
    "collapsed": true,
    "pycharm": {
     "name": "#%% md\n"
    }
   },
   "source": [
    "    1. Negative vs Positive\n",
    "You will receive a list of numbers. Separate the negative numbers from the positive. Find the total sum of the negatives and positives, replace the negative number with its absolute value and print the following:\n",
    "If the absolute negative number is bigger than the positive number:\n",
    "\t\"The negatives are stronger than the positives\"\n",
    "If the positive number is bigger than the absolute negative number:\n",
    "\t\"The positives are stronger than the negatives\"\n",
    "Example\n",
    "Input\n",
    "Output\n",
    "1 2 -3 -4 65 -98 12 57 -84\n",
    "-189\n",
    "137\n",
    "The negatives are stronger than the positives\n",
    "\n"
   ]
  },
  {
   "cell_type": "code",
   "execution_count": 5,
   "outputs": [
    {
     "name": "stdout",
     "output_type": "stream",
     "text": [
      "[1, 2, -3, -4, 65, -98, 12, 57, -84]\n",
      "-189 137\n"
     ]
    }
   ],
   "source": [
    "lst = [int(i) for i in input().split()]\n",
    "print(lst)\n",
    "negative = sum([i for i in lst if i <0 ])\n",
    "positive = sum([i for i in lst if i >0 ])\n",
    "print(negative, positive)\n"
   ],
   "metadata": {
    "collapsed": false,
    "pycharm": {
     "name": "#%%\n"
    }
   }
  }
 ],
 "metadata": {
  "kernelspec": {
   "display_name": "Python 3",
   "language": "python",
   "name": "python3"
  },
  "language_info": {
   "codemirror_mode": {
    "name": "ipython",
    "version": 2
   },
   "file_extension": ".py",
   "mimetype": "text/x-python",
   "name": "python",
   "nbconvert_exporter": "python",
   "pygments_lexer": "ipython2",
   "version": "2.7.6"
  }
 },
 "nbformat": 4,
 "nbformat_minor": 0
}