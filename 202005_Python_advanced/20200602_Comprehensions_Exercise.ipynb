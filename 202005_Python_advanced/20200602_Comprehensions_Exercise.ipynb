{
 "cells": [
  {
   "cell_type": "code",
   "execution_count": null,
   "metadata": {
    "collapsed": true
   },
   "outputs": [],
   "source": []
  },
  {
   "cell_type": "markdown",
   "source": [
    "#    1. Word Filter\n",
    "Using comprehension, write a program that receives some strings separated by space and take only those words, whose length is even. Print each word on a new line.\n",
    "\n",
    "`Examples`\n",
    "\n",
    "Input|Output\n",
    "-|-\n",
    "kiwi orange banana apple|kiwi<br>orange<br>banana\n",
    "pizza cake pasta chips|cake"
   ],
   "metadata": {
    "collapsed": false
   }
  },
  {
   "cell_type": "code",
   "execution_count": 9,
   "outputs": [
    {
     "name": "stdout",
     "output_type": "stream",
     "text": [
      "kiwi\n",
      "orange\n",
      "banana\n"
     ]
    }
   ],
   "source": [
    "text = input().split()\n",
    "result = [i for i in text if len(i) % 2 == 0]\n",
    "for i in result:\n",
    "    print(i)"
   ],
   "metadata": {
    "collapsed": false,
    "pycharm": {
     "name": "#%%\n"
    }
   }
  },
  {
   "cell_type": "markdown",
   "source": [
    "------\n",
    "#   2. Words Lengths\n",
    "Using list comprehension, write a program that receives some strings separated by comma and space \", \" and prints on the console each string with its length in the format: \"{first_str} -> {first_str_len}, {second_str} -> {second_str_len},…\"\n",
    "\n",
    "`Examples`\n",
    "\n",
    "Input|Output\n",
    "-|-\n",
    "Peter, George, Bill, Lilly, Katy|Peter -> 5, George -> 6, Bill -> 4, Lilly -> 5, Katy -> 4\n",
    "Some, Random, Text|Some -> 4, Random -> 6, Text -> 4"
   ],
   "metadata": {
    "collapsed": false,
    "pycharm": {
     "name": "#%% md\n"
    }
   }
  },
  {
   "cell_type": "code",
   "execution_count": 27,
   "outputs": [
    {
     "name": "stdout",
     "output_type": "stream",
     "text": [
      "Peter -> 5, George -> 6, Bill -> 4, Lilly -> 5, Katy -> 4\n"
     ]
    }
   ],
   "source": [
    "text = input().split(', ')\n",
    "print(', '.join([f\"{i} -> {len(i)}\" for i in text]))"
   ],
   "metadata": {
    "collapsed": false,
    "pycharm": {
     "name": "#%%\n"
    }
   }
  },
  {
   "cell_type": "markdown",
   "source": [
    "-----\n",
    "#    3. Capitals\n",
    "Using dictionary comprehension write a program that receives countries on the first line separated by comma and space \", \" and their corresponding capital cities on the second line (again separated by comma and space \", \") and prints each country with their capital on a separate line in the format: \"{country} -> {capital}\"\n",
    "Hints\n",
    "    • You can use the zip() method to zip the two lists into tuple pairs.\n",
    "\n",
    "`Examples`\n",
    "\n",
    "Input|Output\n",
    "-|-\n",
    "Bulgaria, Romania, Germany, England<br>Sofia, Bucharest, Berlin, London|Bulgaria -> Sofia<br>Romania -> Bucharest<br>Germany -> Berlin<br>England -> London"
   ],
   "metadata": {
    "collapsed": false,
    "pycharm": {
     "name": "#%% md\n"
    }
   }
  },
  {
   "cell_type": "code",
   "execution_count": 28,
   "outputs": [
    {
     "name": "stdout",
     "output_type": "stream",
     "text": [
      "Bulgaria -> Bulgaria\n",
      "Romania -> Romania\n",
      "Germany -> Germany\n",
      "England -> England\n"
     ]
    },
    {
     "data": {
      "text/plain": "[None, None, None, None]"
     },
     "execution_count": 28,
     "metadata": {},
     "output_type": "execute_result"
    }
   ],
   "source": [
    "countries = input().split(\", \")\n",
    "capitals = input().split(\", \")\n",
    "[print(f'{x} -> {y}') for x, y in zip(countries, capitals)]"
   ],
   "metadata": {
    "collapsed": false,
    "pycharm": {
     "name": "#%%\n"
    }
   }
  },
  {
   "cell_type": "markdown",
   "source": [
    "-----\n",
    "##    4. Number Classification\n",
    "Using list comprehension write a program that receives numbers separated by comma and space \", \" and prints all the positive, negative, even and odd numbers on separate lines as shown below.\n",
    "Note: Zero is counted for a positive number\n",
    "\n",
    "`Examples`\n",
    "\n",
    "Input|Output\n",
    "-|-\n",
    "1, -2, 0, 5, 3, 4, -100, -20, 12, 19, -33|Positive: 1, 0, 5, 3, 4, 12, 19<br>Negative: -2, -100, -20, -33<br>Even: -2, 0, 4, -100, -20, 12<br>Odd: 1, 5, 3, 19, -33"
   ],
   "metadata": {
    "collapsed": false,
    "pycharm": {
     "name": "#%% md\n"
    }
   }
  },
  {
   "cell_type": "code",
   "execution_count": 33,
   "outputs": [
    {
     "name": "stdout",
     "output_type": "stream",
     "text": [
      "[1, -2, 0, 5, 3, 4, -100, -20, 12, 19, -33]\n",
      "Positive: 1, 0, 5, 3, 4, 12, 19\n",
      "Negative: -2, -100, -20, -33\n",
      "Even: -2, 0, 4, -100, -20, 12\n",
      "Odd: 1, 5, 3, 19, -33\n"
     ]
    }
   ],
   "source": [
    "lst = [int(i) for i in input().split(\", \")]\n",
    "\n",
    "print(f'Positive: {\", \".join(map(str, [i for i in lst if i >= 0]))}')\n",
    "print(f'Negative: {\", \".join(map(str, [i for i in lst if i < 0]))}')\n",
    "print(f'Even: {\", \".join(map(str, [i for i in lst if i % 2 == 0]))}')\n",
    "print(f'Odd: {\", \".join(map(str, [i for i in lst if i % 2 == 1]))}')"
   ],
   "metadata": {
    "collapsed": false,
    "pycharm": {
     "name": "#%%\n"
    }
   }
  },
  {
   "cell_type": "markdown",
   "source": [
    "-----\n",
    "##    5. Diagonals\n",
    "Using nested list comprehension write a program that reads NxN matrix, finds its diagonals, prints them and their sum as shown below.\n",
    "\n",
    "`Examples`\n",
    "\n",
    "Input|Output\n",
    "-|-\n",
    "3<br>1, 2, 3<br>4, 5, 6<br>7, 8, 9|First diagonal: 1, 5, 9. Sum: 15<br>Second diagonal: 3, 5, 7. Sum: 15\n"
   ],
   "metadata": {
    "collapsed": false,
    "pycharm": {
     "name": "#%% md\n"
    }
   }
  },
  {
   "cell_type": "code",
   "execution_count": null,
   "outputs": [],
   "source": [
    "size = int(input())\n",
    "matrix = [list(input().split(\", \")) for _ in range(size)]\n",
    "first_diagonal = [int(matrix[x][x]) for x in range(size)]\n",
    "second_diagonal = [int(matrix[x][size - x - 1]) for x in range(size)]\n",
    "print(f'First diagonal: {\", \".join(map(str, first_diagonal))}. Sum: {sum(first_diagonal)}')\n",
    "print(f'Second diagonal: {\", \".join(map(str, second_diagonal))}. Sum: {sum(second_diagonal)}')"
   ],
   "metadata": {
    "collapsed": false,
    "pycharm": {
     "name": "#%%\n"
    }
   }
  },
  {
   "cell_type": "markdown",
   "source": [
    "-----\n",
    "##    6. Matrix of Palindromes\n",
    "Write a program to generate the following matrix of palindromes of 3 letters with r rows and c columns like the one in the examples below.\n",
    "* Rows define the first and the last letter: row 0  'a', row 1  'b', row 2  'c', …\n",
    "* Columns + rows define the middle letter:\n",
    "    * column 0, row 0  'a', column 1, row 0  'b', column 2, row 0  'c', …\n",
    "    * column 0, row 1  'b', column 1, row 1  'c', column 2, row 1  'd', …\n",
    "Input\n",
    "    • The numbers r and c stay at the first line at the input.\n",
    "    • r and c are integers.\n",
    "\n",
    "`Examples`\n",
    "\n",
    "Input|Output\n",
    "-|-\n",
    "4 6|aaa aba aca ada aea afa<br>bbb bcb bdb beb bfb bgb<br>ccc cdc cec cfc cgc chc<br>ddd ded dfd dgd dhd did\n",
    "3 2|aaa aba<br>bbb bcb<br>ccc cdc"
   ],
   "metadata": {
    "collapsed": false,
    "pycharm": {
     "name": "#%% md\n"
    }
   }
  },
  {
   "cell_type": "code",
   "execution_count": 40,
   "outputs": [
    {
     "name": "stdout",
     "output_type": "stream",
     "text": [
      "aaa aba aca ada aea afa\n",
      "bbb bcb bdb beb bfb bgb\n",
      "ccc cdc cec cfc cgc chc\n",
      "ddd ded dfd dgd dhd did\n"
     ]
    }
   ],
   "source": [
    "ltr = ord(\"a\")\n",
    "rows, cols = (int(i) for i in input().split())\n",
    "\n",
    "matrix = [[chr(ltr+r) + chr(ltr+c+r) + chr(ltr+r)\n",
    "    for c in range(cols)] for r in range(rows)\n",
    "]\n",
    "\n",
    "for i in matrix:\n",
    "    print(\" \".join(i))"
   ],
   "metadata": {
    "collapsed": false,
    "pycharm": {
     "name": "#%%\n"
    }
   }
  },
  {
   "cell_type": "markdown",
   "source": [
    "-----\n",
    "##    7. Flatten lists\n",
    "Write a program to flatten several lists of numbers, received in the following format:\n",
    "    • String with numbers separated by '|'.\n",
    "    • Values are separated by spaces (' ', one or several)\n",
    "    • Order the output list from the last to the first received, and their values from left to right as shown below.\n",
    "\n",
    "`Examples`\n",
    "\n",
    "Input|Output\n",
    "-|-\n",
    "1 2 3 \\|4 5 6 \\|  7  8|7 8 4 5 6 1 2 3\n",
    "7 \\| 4  5\\|1 0\\| 2 5 \\|3|3 2 5 1 0 4 5 7\n",
    "1\\| 4 5 6 7  \\|  8 9|8 9 4 5 6 7 1\n"
   ],
   "metadata": {
    "collapsed": false,
    "pycharm": {
     "name": "#%% md\n"
    }
   }
  },
  {
   "cell_type": "code",
   "execution_count": 45,
   "outputs": [
    {
     "name": "stdout",
     "output_type": "stream",
     "text": [
      "[['7'], ['4', '5'], ['1', '0'], ['2', '5'], ['3']]\n",
      "[['3'], ['2', '5'], ['1', '0'], ['4', '5'], ['7']]\n",
      "3 2 5 1 0 4 5 7\n"
     ]
    }
   ],
   "source": [
    "line = input().split(\"|\")\n",
    "matrix = [x.split() for x in line]\n",
    "result = [matrix.pop() for sublist in matrix[::-1] if matrix]\n",
    "print(' '.join([num for sublist in result for num in sublist]))"
   ],
   "metadata": {
    "collapsed": false,
    "pycharm": {
     "name": "#%%\n"
    }
   }
  },
  {
   "cell_type": "markdown",
   "source": [
    "    8. Heroes Inventory\n",
    "Using comprehension write a program that receives some hero names and items that need to be added in their inventory (item name and item cost). Print the total amount of items with their total cost for each hero.\n",
    "Input\n",
    "    • On the first line you will receive the names of the heroes separated by comma and space \", \"\n",
    "    • On the next lines until the command \"End\", you will be given items with their cost in the following format: \"{name}-{item}-{cost}\". If an item already exists in a hero inventory - ignore it.\n",
    "Output\n",
    "    • For each hero print his name, the total items and the total cost of the items in the format: \"{name} -> Items: {items_count}, Cost: {items_cost}\"\n",
    "Examples\n",
    "Input\n",
    "Output\n",
    "Peter, George\n",
    "Peter-Sword-20\n",
    "Peter-Shield-10\n",
    "George-Gem-100\n",
    "Peter-Sword-15\n",
    "George-Sword-20\n",
    "End\n",
    "Peter -> Items: 2, Cost: 30\n",
    "George -> Items: 2, Cost: 120"
   ],
   "metadata": {
    "collapsed": false,
    "pycharm": {
     "name": "#%% md\n"
    }
   }
  },
  {
   "cell_type": "code",
   "execution_count": 46,
   "outputs": [
    {
     "ename": "ValueError",
     "evalue": "not enough values to unpack (expected 3, got 1)",
     "output_type": "error",
     "traceback": [
      "\u001B[0;31m---------------------------------------------------------------------------\u001B[0m",
      "\u001B[0;31mValueError\u001B[0m                                Traceback (most recent call last)",
      "\u001B[0;32m<ipython-input-46-a373cb3dfe3d>\u001B[0m in \u001B[0;36m<module>\u001B[0;34m\u001B[0m\n\u001B[1;32m      4\u001B[0m \u001B[0;34m\u001B[0m\u001B[0m\n\u001B[1;32m      5\u001B[0m \u001B[0;32mwhile\u001B[0m \u001B[0mcommand\u001B[0m \u001B[0;34m!=\u001B[0m \u001B[0;34m\"End\"\u001B[0m\u001B[0;34m:\u001B[0m\u001B[0;34m\u001B[0m\u001B[0;34m\u001B[0m\u001B[0m\n\u001B[0;32m----> 6\u001B[0;31m     \u001B[0mname\u001B[0m\u001B[0;34m,\u001B[0m \u001B[0mitem\u001B[0m\u001B[0;34m,\u001B[0m \u001B[0mcost\u001B[0m \u001B[0;34m=\u001B[0m \u001B[0mcommand\u001B[0m\u001B[0;34m.\u001B[0m\u001B[0msplit\u001B[0m\u001B[0;34m(\u001B[0m\u001B[0;34m\"-\"\u001B[0m\u001B[0;34m)\u001B[0m\u001B[0;34m\u001B[0m\u001B[0;34m\u001B[0m\u001B[0m\n\u001B[0m\u001B[1;32m      7\u001B[0m \u001B[0;34m\u001B[0m\u001B[0m\n\u001B[1;32m      8\u001B[0m     \u001B[0;32mif\u001B[0m \u001B[0mname\u001B[0m \u001B[0;32min\u001B[0m \u001B[0minventory\u001B[0m\u001B[0;34m:\u001B[0m\u001B[0;34m\u001B[0m\u001B[0;34m\u001B[0m\u001B[0m\n",
      "\u001B[0;31mValueError\u001B[0m: not enough values to unpack (expected 3, got 1)"
     ]
    }
   ],
   "source": [
    "keys = input().split(\", \")\n",
    "inventory = {hero: {} for hero in keys}\n",
    "command = input()\n",
    "\n",
    "while command != \"End\":\n",
    "    name, item, cost = command.split(\"-\")\n",
    "\n",
    "    if name in inventory:\n",
    "        if item not in inventory[name]:\n",
    "            inventory[name][item] = int(cost)\n",
    "    command = input()\n",
    "\n",
    "[print(f'{k} -> Items: {len(inventory[k])}, Cost: {sum(v_dict.values())}') for k, v_dict in inventory.items()]"
   ],
   "metadata": {
    "collapsed": false,
    "pycharm": {
     "name": "#%%\n"
    }
   }
  },
  {
   "cell_type": "markdown",
   "source": [
    "    9. Bunker\n",
    "Using comprehension write a program that finds the number of given items in a bunker and their average quality.\n",
    "On the first line you will be given all item categories present in the bunker, then you will be given a number (n). On the next \"n\" lines you will be given different items in the following format: \"{category} - {item_name} - quantity:{item_quantity};quality:{item_quality}\". Store that information, you will need it later.\n",
    "After you receive all the inputs, print the total amount of items (sum the quantities) in the format: \"Count of items: {count}\". After that print the average quality of all items in the format: \"Average quality: {quality sum/categories count}\" - formatted to the second digit. Finally, print all categories with the items on separate lines in the format: \"{category} -> {item1}, {item2}, …\".\n",
    "\n",
    "Examples\n",
    "Input\n",
    "Output\n",
    "food, water, materials, metal\n",
    "5\n",
    "food - pizza - quantity:10;quality:5\n",
    "water - mineral - quantity:5;quality:10\n",
    "materials - wood - quantity:2;quality:5\n",
    "metal - copper - quantity:3;quality:10\n",
    "food - burgers - quantity:5;quality:2\n",
    "Count of items: 25\n",
    "Average quality: 8.00\n",
    "food -> pizza, burgers\n",
    "water -> mineral\n",
    "materials -> wood\n",
    "metal -> copper"
   ],
   "metadata": {
    "collapsed": false,
    "pycharm": {
     "name": "#%% md\n"
    }
   }
  },
  {
   "cell_type": "code",
   "execution_count": null,
   "outputs": [],
   "source": [],
   "metadata": {
    "collapsed": false,
    "pycharm": {
     "name": "#%%\n"
    }
   }
  }
 ],
 "metadata": {
  "kernelspec": {
   "display_name": "Python 3",
   "language": "python",
   "name": "python3"
  },
  "language_info": {
   "codemirror_mode": {
    "name": "ipython",
    "version": 2
   },
   "file_extension": ".py",
   "mimetype": "text/x-python",
   "name": "python",
   "nbconvert_exporter": "python",
   "pygments_lexer": "ipython2",
   "version": "2.7.6"
  }
 },
 "nbformat": 4,
 "nbformat_minor": 0
}